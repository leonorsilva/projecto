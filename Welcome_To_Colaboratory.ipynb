{
  "cells": [
    {
      "cell_type": "markdown",
      "metadata": {
        "id": "view-in-github",
        "colab_type": "text"
      },
      "source": [
        "<a href=\"https://colab.research.google.com/github/leonorsilva/projecto/blob/master/Welcome_To_Colaboratory.ipynb\" target=\"_parent\"><img src=\"https://colab.research.google.com/assets/colab-badge.svg\" alt=\"Open In Colab\"/></a>"
      ]
    },
    {
      "cell_type": "code",
      "source": [
        "!pip install transformers"
      ],
      "metadata": {
        "colab": {
          "base_uri": "https://localhost:8080/"
        },
        "id": "L2rWvH-dRwjY",
        "outputId": "d985824c-5cb7-43d7-c9be-4ecce9d5f0bb"
      },
      "execution_count": 1,
      "outputs": [
        {
          "output_type": "stream",
          "name": "stdout",
          "text": [
            "Collecting transformers\n",
            "  Downloading transformers-4.30.2-py3-none-any.whl (7.2 MB)\n",
            "\u001b[2K     \u001b[90m━━━━━━━━━━━━━━━━━━━━━━━━━━━━━━━━━━━━━━━━\u001b[0m \u001b[32m7.2/7.2 MB\u001b[0m \u001b[31m58.2 MB/s\u001b[0m eta \u001b[36m0:00:00\u001b[0m\n",
            "\u001b[?25hRequirement already satisfied: filelock in /usr/local/lib/python3.10/dist-packages (from transformers) (3.12.2)\n",
            "Collecting huggingface-hub<1.0,>=0.14.1 (from transformers)\n",
            "  Downloading huggingface_hub-0.16.4-py3-none-any.whl (268 kB)\n",
            "\u001b[2K     \u001b[90m━━━━━━━━━━━━━━━━━━━━━━━━━━━━━━━━━━━━━━\u001b[0m \u001b[32m268.8/268.8 kB\u001b[0m \u001b[31m18.3 MB/s\u001b[0m eta \u001b[36m0:00:00\u001b[0m\n",
            "\u001b[?25hRequirement already satisfied: numpy>=1.17 in /usr/local/lib/python3.10/dist-packages (from transformers) (1.22.4)\n",
            "Requirement already satisfied: packaging>=20.0 in /usr/local/lib/python3.10/dist-packages (from transformers) (23.1)\n",
            "Requirement already satisfied: pyyaml>=5.1 in /usr/local/lib/python3.10/dist-packages (from transformers) (6.0)\n",
            "Requirement already satisfied: regex!=2019.12.17 in /usr/local/lib/python3.10/dist-packages (from transformers) (2022.10.31)\n",
            "Requirement already satisfied: requests in /usr/local/lib/python3.10/dist-packages (from transformers) (2.27.1)\n",
            "Collecting tokenizers!=0.11.3,<0.14,>=0.11.1 (from transformers)\n",
            "  Downloading tokenizers-0.13.3-cp310-cp310-manylinux_2_17_x86_64.manylinux2014_x86_64.whl (7.8 MB)\n",
            "\u001b[2K     \u001b[90m━━━━━━━━━━━━━━━━━━━━━━━━━━━━━━━━━━━━━━━━\u001b[0m \u001b[32m7.8/7.8 MB\u001b[0m \u001b[31m43.2 MB/s\u001b[0m eta \u001b[36m0:00:00\u001b[0m\n",
            "\u001b[?25hCollecting safetensors>=0.3.1 (from transformers)\n",
            "  Downloading safetensors-0.3.1-cp310-cp310-manylinux_2_17_x86_64.manylinux2014_x86_64.whl (1.3 MB)\n",
            "\u001b[2K     \u001b[90m━━━━━━━━━━━━━━━━━━━━━━━━━━━━━━━━━━━━━━━━\u001b[0m \u001b[32m1.3/1.3 MB\u001b[0m \u001b[31m53.5 MB/s\u001b[0m eta \u001b[36m0:00:00\u001b[0m\n",
            "\u001b[?25hRequirement already satisfied: tqdm>=4.27 in /usr/local/lib/python3.10/dist-packages (from transformers) (4.65.0)\n",
            "Requirement already satisfied: fsspec in /usr/local/lib/python3.10/dist-packages (from huggingface-hub<1.0,>=0.14.1->transformers) (2023.6.0)\n",
            "Requirement already satisfied: typing-extensions>=3.7.4.3 in /usr/local/lib/python3.10/dist-packages (from huggingface-hub<1.0,>=0.14.1->transformers) (4.6.3)\n",
            "Requirement already satisfied: urllib3<1.27,>=1.21.1 in /usr/local/lib/python3.10/dist-packages (from requests->transformers) (1.26.16)\n",
            "Requirement already satisfied: certifi>=2017.4.17 in /usr/local/lib/python3.10/dist-packages (from requests->transformers) (2023.5.7)\n",
            "Requirement already satisfied: charset-normalizer~=2.0.0 in /usr/local/lib/python3.10/dist-packages (from requests->transformers) (2.0.12)\n",
            "Requirement already satisfied: idna<4,>=2.5 in /usr/local/lib/python3.10/dist-packages (from requests->transformers) (3.4)\n",
            "Installing collected packages: tokenizers, safetensors, huggingface-hub, transformers\n",
            "Successfully installed huggingface-hub-0.16.4 safetensors-0.3.1 tokenizers-0.13.3 transformers-4.30.2\n"
          ]
        }
      ]
    },
    {
      "cell_type": "code",
      "source": [
        "import torch\n",
        "import torch.nn as nn\n",
        "import torch.optim as optim\n",
        "\n",
        "from transformers import BertTokenizer, BertForSequenceClassification\n",
        "\n",
        "import matplotlib.pyplot as plt\n",
        "import matplotlib.ticker as ticker\n",
        "\n",
        "import spacy\n",
        "import numpy as np\n",
        "\n",
        "import random\n",
        "import math\n",
        "import time"
      ],
      "metadata": {
        "id": "cX4JKfsdPOim"
      },
      "execution_count": 2,
      "outputs": []
    },
    {
      "cell_type": "code",
      "source": [
        "class Encoder(nn.Module):\n",
        "    def __init__(self,\n",
        "                 input_dim,\n",
        "                 output_dim,\n",
        "                 hid_dim,\n",
        "                 n_layers,\n",
        "                 n_heads,\n",
        "                 pf_dim,\n",
        "                 dropout,\n",
        "                 device,\n",
        "                 max_length = 100):\n",
        "        super().__init__()\n",
        "\n",
        "        self.device = device\n",
        "\n",
        "        self.tok_embedding = nn.Embedding(input_dim, hid_dim)\n",
        "        #self.pos_embedding = nn.Embedding(max_length, hid_dim)  #position embedding\n",
        "\n",
        "        self.layers = nn.ModuleList([EncoderLayer(hid_dim,\n",
        "                                                  n_heads,\n",
        "                                                  pf_dim,\n",
        "                                                  dropout,\n",
        "                                                  device)\n",
        "                                     for _ in range(n_layers)])\n",
        "\n",
        "        self.dropout = nn.Dropout(dropout)\n",
        "\n",
        "        self.fc_out = nn.Linear(hid_dim, output_dim)\n",
        "\n",
        "        self.scale = torch.sqrt(torch.FloatTensor([hid_dim])).to(device)\n",
        "\n",
        "    def forward(self, src, src_mask):\n",
        "\n",
        "        #src = [batch size, src len]\n",
        "        #src_mask = [batch size, 1, 1, src len]\n",
        "\n",
        "        batch_size = src.shape[0]\n",
        "        src_len = src.shape[1]\n",
        "\n",
        "        #pos = torch.arange(0, src_len).unsqueeze(0).repeat(batch_size, 1).to(self.device)\n",
        "\n",
        "        #pos = [batch size, src len]\n",
        "\n",
        "        src = self.dropout((self.tok_embedding(src) * self.scale)) #+ self.pos_embedding(pos))\n",
        "\n",
        "        #src = [batch size, src len, hid dim]\n",
        "\n",
        "        for layer in self.layers:\n",
        "\n",
        "            src = layer(src, src_mask)\n",
        "\n",
        "        #src = [batch size, src len, hid dim]\n",
        "        output = self.fc_out(src)\n",
        "        output = torch.softmax(torch.mean(output, 1),1)\n",
        "\n",
        "        return output\n",
        "\n"
      ],
      "metadata": {
        "id": "TXU491dgPOfE"
      },
      "execution_count": 3,
      "outputs": []
    },
    {
      "cell_type": "code",
      "source": [
        "class EncoderLayer(nn.Module):\n",
        "    def __init__(self,\n",
        "                 hid_dim,\n",
        "                 n_heads,\n",
        "                 pf_dim,\n",
        "                 dropout,\n",
        "                 device):\n",
        "        super().__init__()\n",
        "\n",
        "        self.self_attn_layer_norm = nn.LayerNorm(hid_dim)\n",
        "        self.ff_layer_norm = nn.LayerNorm(hid_dim)\n",
        "        self.self_attention = MultiHeadAttentionLayer(hid_dim, n_heads, dropout, device)\n",
        "        self.positionwise_feedforward = PositionwiseFeedforwardLayer(hid_dim,\n",
        "                                                                     pf_dim,\n",
        "                                                                     dropout)\n",
        "        self.dropout = nn.Dropout(dropout)\n",
        "\n",
        "    def forward(self, src, src_mask):\n",
        "\n",
        "        #src = [batch size, src len, hid dim]\n",
        "        #src_mask = [batch size, 1, 1, src len]\n",
        "\n",
        "        #self attention\n",
        "        _src, _ = self.self_attention(src, src, src, src_mask)\n",
        "\n",
        "        #dropout, residual connection and layer norm\n",
        "        src = self.self_attn_layer_norm(src + self.dropout(_src))\n",
        "\n",
        "        #src = [batch size, src len, hid dim]\n",
        "\n",
        "        #positionwise feedforward\n",
        "        _src = self.positionwise_feedforward(src)\n",
        "\n",
        "        #dropout, residual and layer norm\n",
        "        src = self.ff_layer_norm(src + self.dropout(_src))\n",
        "\n",
        "        #src = [batch size, src len, hid dim]\n",
        "\n",
        "        return src"
      ],
      "metadata": {
        "id": "3yhu0X3LPOcn"
      },
      "execution_count": 4,
      "outputs": []
    },
    {
      "cell_type": "code",
      "source": [
        "class MultiHeadAttentionLayer(nn.Module):\n",
        "    def __init__(self, hid_dim, n_heads, dropout, device):\n",
        "        super().__init__()\n",
        "\n",
        "        assert hid_dim % n_heads == 0\n",
        "\n",
        "        self.hid_dim = hid_dim\n",
        "        self.n_heads = n_heads\n",
        "        self.head_dim = hid_dim // n_heads\n",
        "\n",
        "        self.fc_q = nn.Linear(hid_dim, hid_dim)\n",
        "        self.fc_k = nn.Linear(hid_dim, hid_dim)\n",
        "        self.fc_v = nn.Linear(hid_dim, hid_dim)\n",
        "\n",
        "        self.fc_o = nn.Linear(hid_dim, hid_dim)\n",
        "\n",
        "        self.dropout = nn.Dropout(dropout)\n",
        "\n",
        "        self.scale = torch.sqrt(torch.FloatTensor([self.head_dim])).to(device)\n",
        "\n",
        "    def forward(self, query, key, value, mask = None):\n",
        "\n",
        "        batch_size = query.shape[0]\n",
        "\n",
        "        #query = [batch size, query len, hid dim]\n",
        "        #key = [batch size, key len, hid dim]\n",
        "        #value = [batch size, value len, hid dim]\n",
        "        Q = self.fc_q(query)\n",
        "        K = self.fc_k(key)\n",
        "        V = self.fc_v(value)\n",
        "\n",
        "\n",
        "        #Q = [batch size, query len, hid dim]\n",
        "        #K = [batch size, key len, hid dim]\n",
        "        #V = [batch size, value len, hid dim]\n",
        "\n",
        "        Q = Q.view(batch_size, -1, self.n_heads, self.head_dim).permute(0, 2, 1, 3)\n",
        "        K = K.view(batch_size, -1, self.n_heads, self.head_dim).permute(0, 2, 1, 3)\n",
        "        V = V.view(batch_size, -1, self.n_heads, self.head_dim).permute(0, 2, 1, 3)\n",
        "\n",
        "        #Q = [batch size, n heads, query len, head dim]\n",
        "        #K = [batch size, n heads, key len, head dim]\n",
        "        #V = [batch size, n heads, value len, head dim]\n",
        "\n",
        "        energy = torch.matmul(Q, K.permute(0, 1, 3, 2)) / self.scale\n",
        "\n",
        "        #energy = [batch size, n heads, query len, key len]\n",
        "        if mask is not None:\n",
        "            energy = energy.masked_fill(mask == 0, -1e10)\n",
        "        attention = torch.softmax(energy, dim = -1)\n",
        "\n",
        "        #attention = [batch size, n heads, query len, key len]\n",
        "\n",
        "        x = torch.matmul(self.dropout(attention), V)\n",
        "\n",
        "        #x = [batch size, n heads, query len, head dim]\n",
        "\n",
        "        x = x.permute(0, 2, 1, 3).contiguous()\n",
        "\n",
        "        #x = [batch size, query len, n heads, head dim]\n",
        "\n",
        "        x = x.view(batch_size, -1, self.hid_dim)\n",
        "\n",
        "        #x = [batch size, query len, hid dim]\n",
        "\n",
        "        x = self.fc_o(x)\n",
        "\n",
        "        #x = [batch size, query len, hid dim]\n",
        "\n",
        "        return x, attention"
      ],
      "metadata": {
        "id": "7S1fPSSSPOaB"
      },
      "execution_count": 5,
      "outputs": []
    },
    {
      "cell_type": "code",
      "source": [
        "class PositionwiseFeedforwardLayer(nn.Module):\n",
        "    def __init__(self, hid_dim, pf_dim, dropout):\n",
        "        super().__init__()\n",
        "\n",
        "        self.fc_1 = nn.Linear(hid_dim, pf_dim)\n",
        "        self.fc_2 = nn.Linear(pf_dim, hid_dim)\n",
        "\n",
        "        self.dropout = nn.Dropout(dropout)\n",
        "\n",
        "    def forward(self, x):\n",
        "\n",
        "        #x = [batch size, seq len, hid dim]\n",
        "\n",
        "        x = self.dropout(torch.relu(self.fc_1(x)))\n",
        "\n",
        "        #x = [batch size, seq len, pf dim]\n",
        "\n",
        "        x = self.fc_2(x)\n",
        "\n",
        "        #x = [batch size, seq len, hid dim]\n",
        "\n",
        "        return x"
      ],
      "metadata": {
        "id": "dcntrgtJPOXk"
      },
      "execution_count": 6,
      "outputs": []
    },
    {
      "cell_type": "code",
      "source": [
        "device = torch.device('cuda' if torch.cuda.is_available() else 'cpu')"
      ],
      "metadata": {
        "id": "tFMec7eoPOVM"
      },
      "execution_count": 7,
      "outputs": []
    },
    {
      "cell_type": "code",
      "source": [
        "INPUT_DIM = 15000\n",
        "OUTPUT_DIM = 5\n",
        "HID_DIM = 4\n",
        "ENC_LAYERS = 1\n",
        "ENC_HEADS = 2\n",
        "ENC_PF_DIM = 3\n",
        "ENC_DROPOUT = 0.1\n",
        "\n",
        "enc = Encoder(INPUT_DIM,\n",
        "              OUTPUT_DIM,\n",
        "              HID_DIM,\n",
        "              ENC_LAYERS,\n",
        "              ENC_HEADS,\n",
        "              ENC_PF_DIM,\n",
        "              ENC_DROPOUT,\n",
        "              device)"
      ],
      "metadata": {
        "id": "ZOdMlSOMPOSr"
      },
      "execution_count": 8,
      "outputs": []
    },
    {
      "cell_type": "code",
      "source": [
        "tokenizer = BertTokenizer.from_pretrained('bert-base-cased')\n",
        "token= tokenizer.encode_plus('I am awesome', max_length=5, truncation=True,\n",
        "                                   padding='max_length', add_special_tokens=True,\n",
        "                                   return_tensors='tf')"
      ],
      "metadata": {
        "id": "INP8CTEAPOQK",
        "outputId": "848462c3-da96-4345-9adf-6c7f1fb21b95",
        "colab": {
          "base_uri": "https://localhost:8080/",
          "height": 113,
          "referenced_widgets": [
            "ea319731e59642098e0a6625e850e863",
            "95835d32a0174456905bbe681a131b66",
            "a30e5fd3e5ef4ca28e90f166bc6ef8fd",
            "5f8b777e338b4969a30e73033a79660c",
            "314e139ec2064e8ebcf70216952a26e9",
            "ac992a4d8bc04d06a8853f01fc5304a7",
            "0135a11a914240caaf836fc4a9c31dcc",
            "a77abcddfd714207bf1bf734ae1cb587",
            "23216984213445feac646a5883abc151",
            "129e49b4dda04f098c96540badeb8ddd",
            "18cdb21d78784d1a9a5a72520d6fd9be",
            "b42624d5e8f545908263534bc7727cab",
            "e484692c64a7417ea6560578480a3897",
            "f3da00db2005488fb2881647274a8fed",
            "5ac4e97e6dee4524898d65afde035bd2",
            "b9be0c8d6ba14fba9504451cff408f19",
            "11f02ec09a8a42a2b09e7b4279aaafa1",
            "9bef0d09248a4099b3c8fb9ca0ab2075",
            "989a5e0503c245deafaab5bfac9e431a",
            "79e04b68cf344b4e952c01ca0343a9f6",
            "d0d98e8749174af2824fe045d7ad7c1e",
            "8987fe1df51843069d7ef00612076a95",
            "57005f2fb9b0474db134567c842d5671",
            "6a2e2193e4964f66a93a2219d9adb89e",
            "1e638453d78e4e26b672ba08cbbc724f",
            "544aae2a121a4269a14baaf967b7e012",
            "915ea364513f447786b4891c510fb0f2",
            "a2106a76ecf44218bfc829e025570222",
            "4acb7ce5672443c6b6f5f9820c1974ce",
            "1a86917c1a9b4b998e995fd4550cf5f2",
            "5f23ca86e6044ec796904534a8b8cf77",
            "4e93d4ada49142428db80acaed06aa03",
            "dd6fd5c1ff584deda8b0a74b53e68826"
          ]
        }
      },
      "execution_count": 9,
      "outputs": [
        {
          "output_type": "display_data",
          "data": {
            "text/plain": [
              "Downloading (…)solve/main/vocab.txt:   0%|          | 0.00/213k [00:00<?, ?B/s]"
            ],
            "application/vnd.jupyter.widget-view+json": {
              "version_major": 2,
              "version_minor": 0,
              "model_id": "ea319731e59642098e0a6625e850e863"
            }
          },
          "metadata": {}
        },
        {
          "output_type": "display_data",
          "data": {
            "text/plain": [
              "Downloading (…)okenizer_config.json:   0%|          | 0.00/29.0 [00:00<?, ?B/s]"
            ],
            "application/vnd.jupyter.widget-view+json": {
              "version_major": 2,
              "version_minor": 0,
              "model_id": "b42624d5e8f545908263534bc7727cab"
            }
          },
          "metadata": {}
        },
        {
          "output_type": "display_data",
          "data": {
            "text/plain": [
              "Downloading (…)lve/main/config.json:   0%|          | 0.00/570 [00:00<?, ?B/s]"
            ],
            "application/vnd.jupyter.widget-view+json": {
              "version_major": 2,
              "version_minor": 0,
              "model_id": "57005f2fb9b0474db134567c842d5671"
            }
          },
          "metadata": {}
        }
      ]
    },
    {
      "cell_type": "code",
      "source": [
        "input=torch.Tensor(token['input_ids'].numpy())\n",
        "input=input.type(torch.int32)\n",
        "\n",
        "mask=torch.Tensor(token['attention_mask'].numpy())\n",
        "mask=mask.type(torch.int32)"
      ],
      "metadata": {
        "id": "-GYNonkqPONq"
      },
      "execution_count": 10,
      "outputs": []
    },
    {
      "cell_type": "code",
      "source": [
        "input2=torch.Tensor([token['input_ids'].numpy()[0],token['input_ids'].numpy()[0]])\n",
        "input2=input2.type(torch.int32)\n",
        "\n",
        "\n",
        "mask2=torch.Tensor([token['attention_mask'].numpy()[0],token['attention_mask'].numpy()[0]])\n",
        "mask2=mask2.type(torch.int32)"
      ],
      "metadata": {
        "id": "S8n0UoFIPOI5",
        "outputId": "1839d26f-feef-4db4-c6a3-63fe58d0df3e",
        "colab": {
          "base_uri": "https://localhost:8080/"
        }
      },
      "execution_count": 11,
      "outputs": [
        {
          "output_type": "stream",
          "name": "stderr",
          "text": [
            "<ipython-input-11-472a4de74c81>:1: UserWarning: Creating a tensor from a list of numpy.ndarrays is extremely slow. Please consider converting the list to a single numpy.ndarray with numpy.array() before converting to a tensor. (Triggered internally at ../torch/csrc/utils/tensor_new.cpp:245.)\n",
            "  input2=torch.Tensor([token['input_ids'].numpy()[0],token['input_ids'].numpy()[0]])\n"
          ]
        }
      ]
    },
    {
      "cell_type": "code",
      "source": [
        "input"
      ],
      "metadata": {
        "colab": {
          "base_uri": "https://localhost:8080/"
        },
        "id": "JSq4aEvkM4AH",
        "outputId": "298db52a-ea12-4132-eb06-b98d82cf522d"
      },
      "execution_count": 12,
      "outputs": [
        {
          "output_type": "execute_result",
          "data": {
            "text/plain": [
              "tensor([[  101,   146,  1821, 14918,   102]], dtype=torch.int32)"
            ]
          },
          "metadata": {},
          "execution_count": 12
        }
      ]
    },
    {
      "cell_type": "code",
      "source": [
        "mask"
      ],
      "metadata": {
        "colab": {
          "base_uri": "https://localhost:8080/"
        },
        "id": "jE66FP16M8BB",
        "outputId": "9bec0ede-2b84-4f9e-f20d-a8a7e6b8bd92"
      },
      "execution_count": 13,
      "outputs": [
        {
          "output_type": "execute_result",
          "data": {
            "text/plain": [
              "tensor([[1, 1, 1, 1, 1]], dtype=torch.int32)"
            ]
          },
          "metadata": {},
          "execution_count": 13
        }
      ]
    },
    {
      "cell_type": "code",
      "source": [
        "mask=(input != mask).unsqueeze(1).unsqueeze(2)"
      ],
      "metadata": {
        "id": "r4gMUFAerSQw"
      },
      "execution_count": 14,
      "outputs": []
    },
    {
      "cell_type": "code",
      "source": [
        "enc(input,mask)"
      ],
      "metadata": {
        "colab": {
          "base_uri": "https://localhost:8080/"
        },
        "id": "VhiBTGTUabG3",
        "outputId": "56969a72-4780-4202-fc61-dbf5555ecc3d"
      },
      "execution_count": 15,
      "outputs": [
        {
          "output_type": "execute_result",
          "data": {
            "text/plain": [
              "tensor([[0.1999, 0.1180, 0.2111, 0.1530, 0.3180]], grad_fn=<SoftmaxBackward0>)"
            ]
          },
          "metadata": {},
          "execution_count": 15
        }
      ]
    },
    {
      "cell_type": "code",
      "source": [
        "mask2=(input2 != mask2).unsqueeze(1).unsqueeze(2)"
      ],
      "metadata": {
        "id": "h3V46-LC1Kqq"
      },
      "execution_count": 16,
      "outputs": []
    },
    {
      "cell_type": "code",
      "source": [
        "mask2"
      ],
      "metadata": {
        "colab": {
          "base_uri": "https://localhost:8080/"
        },
        "id": "87HCf33Bn1V9",
        "outputId": "b394e391-376a-4173-ccdc-03671f047992"
      },
      "execution_count": 17,
      "outputs": [
        {
          "output_type": "execute_result",
          "data": {
            "text/plain": [
              "tensor([[[[True, True, True, True, True]]],\n",
              "\n",
              "\n",
              "        [[[True, True, True, True, True]]]])"
            ]
          },
          "metadata": {},
          "execution_count": 17
        }
      ]
    },
    {
      "cell_type": "code",
      "source": [
        "enc(input2,mask2)"
      ],
      "metadata": {
        "colab": {
          "base_uri": "https://localhost:8080/"
        },
        "id": "D5RZhMxTPN8P",
        "outputId": "e21f1956-07ed-4f0f-fb88-1861e1989fb0"
      },
      "execution_count": 18,
      "outputs": [
        {
          "output_type": "execute_result",
          "data": {
            "text/plain": [
              "tensor([[0.2122, 0.1186, 0.1740, 0.1431, 0.3521],\n",
              "        [0.2085, 0.1276, 0.1974, 0.1632, 0.3033]], grad_fn=<SoftmaxBackward0>)"
            ]
          },
          "metadata": {},
          "execution_count": 18
        }
      ]
    },
    {
      "cell_type": "code",
      "source": [
        "import pandas as pd\n",
        "\n",
        "train=pd.DataFrame(pd.read_csv('train.tsv',sep='\\t'))"
      ],
      "metadata": {
        "id": "j_KwqbaNPN5o"
      },
      "execution_count": 52,
      "outputs": []
    },
    {
      "cell_type": "code",
      "source": [
        "train['tokens']=None\n",
        "train['mask']=None"
      ],
      "metadata": {
        "id": "8gCVlsd7PN3B"
      },
      "execution_count": 53,
      "outputs": []
    },
    {
      "cell_type": "code",
      "source": [
        "tokenizer = BertTokenizer.from_pretrained('bert-base-cased')\n",
        "\n",
        "for i, phrase in enumerate(train['Phrase']):\n",
        "    tokens = tokenizer.encode_plus(phrase, max_length=50, truncation=True,\n",
        "                                   padding='max_length', add_special_tokens=True,\n",
        "                                   return_tensors='tf')\n",
        "    # assign tokenized outputs to respective rows in numpy arrays\n",
        "    train['tokens'][i]=tokens['input_ids'].numpy()[0]\n",
        "    train['mask'][i]=tokens['attention_mask'].numpy()[0]\n"
      ],
      "metadata": {
        "colab": {
          "base_uri": "https://localhost:8080/"
        },
        "id": "lqtCFbIHPNyJ",
        "outputId": "dc9f425f-68c1-4c3a-8fe0-dd1a670dc352"
      },
      "execution_count": 54,
      "outputs": [
        {
          "output_type": "stream",
          "name": "stderr",
          "text": [
            "<ipython-input-54-90410cdc0ed0>:8: SettingWithCopyWarning: \n",
            "A value is trying to be set on a copy of a slice from a DataFrame\n",
            "\n",
            "See the caveats in the documentation: https://pandas.pydata.org/pandas-docs/stable/user_guide/indexing.html#returning-a-view-versus-a-copy\n",
            "  train['tokens'][i]=tokens['input_ids'].numpy()[0]\n",
            "<ipython-input-54-90410cdc0ed0>:9: SettingWithCopyWarning: \n",
            "A value is trying to be set on a copy of a slice from a DataFrame\n",
            "\n",
            "See the caveats in the documentation: https://pandas.pydata.org/pandas-docs/stable/user_guide/indexing.html#returning-a-view-versus-a-copy\n",
            "  train['mask'][i]=tokens['attention_mask'].numpy()[0]\n"
          ]
        }
      ]
    },
    {
      "cell_type": "code",
      "source": [
        "#train=pd.get_dummies(train, columns =['Sentiment'])"
      ],
      "metadata": {
        "id": "3iuuQpVhuWSo"
      },
      "execution_count": 55,
      "outputs": []
    },
    {
      "cell_type": "code",
      "source": [
        "train"
      ],
      "metadata": {
        "colab": {
          "base_uri": "https://localhost:8080/",
          "height": 641
        },
        "id": "1ACGSflvPN0n",
        "outputId": "57567ed9-f11d-4543-c99e-077d82b54f3e"
      },
      "execution_count": 56,
      "outputs": [
        {
          "output_type": "execute_result",
          "data": {
            "text/plain": [
              "        PhraseId  SentenceId  \\\n",
              "0              1           1   \n",
              "1              2           1   \n",
              "2              3           1   \n",
              "3              4           1   \n",
              "4              5           1   \n",
              "...          ...         ...   \n",
              "156055    156056        8544   \n",
              "156056    156057        8544   \n",
              "156057    156058        8544   \n",
              "156058    156059        8544   \n",
              "156059    156060        8544   \n",
              "\n",
              "                                                   Phrase  Sentiment  \\\n",
              "0       A series of escapades demonstrating the adage ...          1   \n",
              "1       A series of escapades demonstrating the adage ...          2   \n",
              "2                                                A series          2   \n",
              "3                                                       A          2   \n",
              "4                                                  series          2   \n",
              "...                                                   ...        ...   \n",
              "156055                                          Hearst 's          2   \n",
              "156056                          forced avuncular chortles          1   \n",
              "156057                                 avuncular chortles          3   \n",
              "156058                                          avuncular          2   \n",
              "156059                                           chortles          2   \n",
              "\n",
              "                                                   tokens  \\\n",
              "0       [101, 138, 1326, 1104, 13936, 25265, 16913, 15...   \n",
              "1       [101, 138, 1326, 1104, 13936, 25265, 16913, 15...   \n",
              "2       [101, 138, 1326, 102, 0, 0, 0, 0, 0, 0, 0, 0, ...   \n",
              "3       [101, 138, 102, 0, 0, 0, 0, 0, 0, 0, 0, 0, 0, ...   \n",
              "4       [101, 1326, 102, 0, 0, 0, 0, 0, 0, 0, 0, 0, 0,...   \n",
              "...                                                   ...   \n",
              "156055  [101, 22038, 2050, 112, 188, 102, 0, 0, 0, 0, ...   \n",
              "156056  [101, 2257, 170, 25247, 26405, 5552, 22572, 12...   \n",
              "156057  [101, 170, 25247, 26405, 5552, 22572, 12148, 2...   \n",
              "156058  [101, 170, 25247, 26405, 5552, 102, 0, 0, 0, 0...   \n",
              "156059  [101, 22572, 12148, 2897, 102, 0, 0, 0, 0, 0, ...   \n",
              "\n",
              "                                                     mask  \n",
              "0       [1, 1, 1, 1, 1, 1, 1, 1, 1, 1, 1, 1, 1, 1, 1, ...  \n",
              "1       [1, 1, 1, 1, 1, 1, 1, 1, 1, 1, 1, 1, 1, 1, 1, ...  \n",
              "2       [1, 1, 1, 1, 0, 0, 0, 0, 0, 0, 0, 0, 0, 0, 0, ...  \n",
              "3       [1, 1, 1, 0, 0, 0, 0, 0, 0, 0, 0, 0, 0, 0, 0, ...  \n",
              "4       [1, 1, 1, 0, 0, 0, 0, 0, 0, 0, 0, 0, 0, 0, 0, ...  \n",
              "...                                                   ...  \n",
              "156055  [1, 1, 1, 1, 1, 1, 0, 0, 0, 0, 0, 0, 0, 0, 0, ...  \n",
              "156056  [1, 1, 1, 1, 1, 1, 1, 1, 1, 1, 0, 0, 0, 0, 0, ...  \n",
              "156057  [1, 1, 1, 1, 1, 1, 1, 1, 1, 0, 0, 0, 0, 0, 0, ...  \n",
              "156058  [1, 1, 1, 1, 1, 1, 0, 0, 0, 0, 0, 0, 0, 0, 0, ...  \n",
              "156059  [1, 1, 1, 1, 1, 0, 0, 0, 0, 0, 0, 0, 0, 0, 0, ...  \n",
              "\n",
              "[156060 rows x 6 columns]"
            ],
            "text/html": [
              "\n",
              "  <div id=\"df-b1ac60d7-fb1f-45e8-9dde-5a3eb85b29ea\">\n",
              "    <div class=\"colab-df-container\">\n",
              "      <div>\n",
              "<style scoped>\n",
              "    .dataframe tbody tr th:only-of-type {\n",
              "        vertical-align: middle;\n",
              "    }\n",
              "\n",
              "    .dataframe tbody tr th {\n",
              "        vertical-align: top;\n",
              "    }\n",
              "\n",
              "    .dataframe thead th {\n",
              "        text-align: right;\n",
              "    }\n",
              "</style>\n",
              "<table border=\"1\" class=\"dataframe\">\n",
              "  <thead>\n",
              "    <tr style=\"text-align: right;\">\n",
              "      <th></th>\n",
              "      <th>PhraseId</th>\n",
              "      <th>SentenceId</th>\n",
              "      <th>Phrase</th>\n",
              "      <th>Sentiment</th>\n",
              "      <th>tokens</th>\n",
              "      <th>mask</th>\n",
              "    </tr>\n",
              "  </thead>\n",
              "  <tbody>\n",
              "    <tr>\n",
              "      <th>0</th>\n",
              "      <td>1</td>\n",
              "      <td>1</td>\n",
              "      <td>A series of escapades demonstrating the adage ...</td>\n",
              "      <td>1</td>\n",
              "      <td>[101, 138, 1326, 1104, 13936, 25265, 16913, 15...</td>\n",
              "      <td>[1, 1, 1, 1, 1, 1, 1, 1, 1, 1, 1, 1, 1, 1, 1, ...</td>\n",
              "    </tr>\n",
              "    <tr>\n",
              "      <th>1</th>\n",
              "      <td>2</td>\n",
              "      <td>1</td>\n",
              "      <td>A series of escapades demonstrating the adage ...</td>\n",
              "      <td>2</td>\n",
              "      <td>[101, 138, 1326, 1104, 13936, 25265, 16913, 15...</td>\n",
              "      <td>[1, 1, 1, 1, 1, 1, 1, 1, 1, 1, 1, 1, 1, 1, 1, ...</td>\n",
              "    </tr>\n",
              "    <tr>\n",
              "      <th>2</th>\n",
              "      <td>3</td>\n",
              "      <td>1</td>\n",
              "      <td>A series</td>\n",
              "      <td>2</td>\n",
              "      <td>[101, 138, 1326, 102, 0, 0, 0, 0, 0, 0, 0, 0, ...</td>\n",
              "      <td>[1, 1, 1, 1, 0, 0, 0, 0, 0, 0, 0, 0, 0, 0, 0, ...</td>\n",
              "    </tr>\n",
              "    <tr>\n",
              "      <th>3</th>\n",
              "      <td>4</td>\n",
              "      <td>1</td>\n",
              "      <td>A</td>\n",
              "      <td>2</td>\n",
              "      <td>[101, 138, 102, 0, 0, 0, 0, 0, 0, 0, 0, 0, 0, ...</td>\n",
              "      <td>[1, 1, 1, 0, 0, 0, 0, 0, 0, 0, 0, 0, 0, 0, 0, ...</td>\n",
              "    </tr>\n",
              "    <tr>\n",
              "      <th>4</th>\n",
              "      <td>5</td>\n",
              "      <td>1</td>\n",
              "      <td>series</td>\n",
              "      <td>2</td>\n",
              "      <td>[101, 1326, 102, 0, 0, 0, 0, 0, 0, 0, 0, 0, 0,...</td>\n",
              "      <td>[1, 1, 1, 0, 0, 0, 0, 0, 0, 0, 0, 0, 0, 0, 0, ...</td>\n",
              "    </tr>\n",
              "    <tr>\n",
              "      <th>...</th>\n",
              "      <td>...</td>\n",
              "      <td>...</td>\n",
              "      <td>...</td>\n",
              "      <td>...</td>\n",
              "      <td>...</td>\n",
              "      <td>...</td>\n",
              "    </tr>\n",
              "    <tr>\n",
              "      <th>156055</th>\n",
              "      <td>156056</td>\n",
              "      <td>8544</td>\n",
              "      <td>Hearst 's</td>\n",
              "      <td>2</td>\n",
              "      <td>[101, 22038, 2050, 112, 188, 102, 0, 0, 0, 0, ...</td>\n",
              "      <td>[1, 1, 1, 1, 1, 1, 0, 0, 0, 0, 0, 0, 0, 0, 0, ...</td>\n",
              "    </tr>\n",
              "    <tr>\n",
              "      <th>156056</th>\n",
              "      <td>156057</td>\n",
              "      <td>8544</td>\n",
              "      <td>forced avuncular chortles</td>\n",
              "      <td>1</td>\n",
              "      <td>[101, 2257, 170, 25247, 26405, 5552, 22572, 12...</td>\n",
              "      <td>[1, 1, 1, 1, 1, 1, 1, 1, 1, 1, 0, 0, 0, 0, 0, ...</td>\n",
              "    </tr>\n",
              "    <tr>\n",
              "      <th>156057</th>\n",
              "      <td>156058</td>\n",
              "      <td>8544</td>\n",
              "      <td>avuncular chortles</td>\n",
              "      <td>3</td>\n",
              "      <td>[101, 170, 25247, 26405, 5552, 22572, 12148, 2...</td>\n",
              "      <td>[1, 1, 1, 1, 1, 1, 1, 1, 1, 0, 0, 0, 0, 0, 0, ...</td>\n",
              "    </tr>\n",
              "    <tr>\n",
              "      <th>156058</th>\n",
              "      <td>156059</td>\n",
              "      <td>8544</td>\n",
              "      <td>avuncular</td>\n",
              "      <td>2</td>\n",
              "      <td>[101, 170, 25247, 26405, 5552, 102, 0, 0, 0, 0...</td>\n",
              "      <td>[1, 1, 1, 1, 1, 1, 0, 0, 0, 0, 0, 0, 0, 0, 0, ...</td>\n",
              "    </tr>\n",
              "    <tr>\n",
              "      <th>156059</th>\n",
              "      <td>156060</td>\n",
              "      <td>8544</td>\n",
              "      <td>chortles</td>\n",
              "      <td>2</td>\n",
              "      <td>[101, 22572, 12148, 2897, 102, 0, 0, 0, 0, 0, ...</td>\n",
              "      <td>[1, 1, 1, 1, 1, 0, 0, 0, 0, 0, 0, 0, 0, 0, 0, ...</td>\n",
              "    </tr>\n",
              "  </tbody>\n",
              "</table>\n",
              "<p>156060 rows × 6 columns</p>\n",
              "</div>\n",
              "      <button class=\"colab-df-convert\" onclick=\"convertToInteractive('df-b1ac60d7-fb1f-45e8-9dde-5a3eb85b29ea')\"\n",
              "              title=\"Convert this dataframe to an interactive table.\"\n",
              "              style=\"display:none;\">\n",
              "        \n",
              "  <svg xmlns=\"http://www.w3.org/2000/svg\" height=\"24px\"viewBox=\"0 0 24 24\"\n",
              "       width=\"24px\">\n",
              "    <path d=\"M0 0h24v24H0V0z\" fill=\"none\"/>\n",
              "    <path d=\"M18.56 5.44l.94 2.06.94-2.06 2.06-.94-2.06-.94-.94-2.06-.94 2.06-2.06.94zm-11 1L8.5 8.5l.94-2.06 2.06-.94-2.06-.94L8.5 2.5l-.94 2.06-2.06.94zm10 10l.94 2.06.94-2.06 2.06-.94-2.06-.94-.94-2.06-.94 2.06-2.06.94z\"/><path d=\"M17.41 7.96l-1.37-1.37c-.4-.4-.92-.59-1.43-.59-.52 0-1.04.2-1.43.59L10.3 9.45l-7.72 7.72c-.78.78-.78 2.05 0 2.83L4 21.41c.39.39.9.59 1.41.59.51 0 1.02-.2 1.41-.59l7.78-7.78 2.81-2.81c.8-.78.8-2.07 0-2.86zM5.41 20L4 18.59l7.72-7.72 1.47 1.35L5.41 20z\"/>\n",
              "  </svg>\n",
              "      </button>\n",
              "      \n",
              "  <style>\n",
              "    .colab-df-container {\n",
              "      display:flex;\n",
              "      flex-wrap:wrap;\n",
              "      gap: 12px;\n",
              "    }\n",
              "\n",
              "    .colab-df-convert {\n",
              "      background-color: #E8F0FE;\n",
              "      border: none;\n",
              "      border-radius: 50%;\n",
              "      cursor: pointer;\n",
              "      display: none;\n",
              "      fill: #1967D2;\n",
              "      height: 32px;\n",
              "      padding: 0 0 0 0;\n",
              "      width: 32px;\n",
              "    }\n",
              "\n",
              "    .colab-df-convert:hover {\n",
              "      background-color: #E2EBFA;\n",
              "      box-shadow: 0px 1px 2px rgba(60, 64, 67, 0.3), 0px 1px 3px 1px rgba(60, 64, 67, 0.15);\n",
              "      fill: #174EA6;\n",
              "    }\n",
              "\n",
              "    [theme=dark] .colab-df-convert {\n",
              "      background-color: #3B4455;\n",
              "      fill: #D2E3FC;\n",
              "    }\n",
              "\n",
              "    [theme=dark] .colab-df-convert:hover {\n",
              "      background-color: #434B5C;\n",
              "      box-shadow: 0px 1px 3px 1px rgba(0, 0, 0, 0.15);\n",
              "      filter: drop-shadow(0px 1px 2px rgba(0, 0, 0, 0.3));\n",
              "      fill: #FFFFFF;\n",
              "    }\n",
              "  </style>\n",
              "\n",
              "      <script>\n",
              "        const buttonEl =\n",
              "          document.querySelector('#df-b1ac60d7-fb1f-45e8-9dde-5a3eb85b29ea button.colab-df-convert');\n",
              "        buttonEl.style.display =\n",
              "          google.colab.kernel.accessAllowed ? 'block' : 'none';\n",
              "\n",
              "        async function convertToInteractive(key) {\n",
              "          const element = document.querySelector('#df-b1ac60d7-fb1f-45e8-9dde-5a3eb85b29ea');\n",
              "          const dataTable =\n",
              "            await google.colab.kernel.invokeFunction('convertToInteractive',\n",
              "                                                     [key], {});\n",
              "          if (!dataTable) return;\n",
              "\n",
              "          const docLinkHtml = 'Like what you see? Visit the ' +\n",
              "            '<a target=\"_blank\" href=https://colab.research.google.com/notebooks/data_table.ipynb>data table notebook</a>'\n",
              "            + ' to learn more about interactive tables.';\n",
              "          element.innerHTML = '';\n",
              "          dataTable['output_type'] = 'display_data';\n",
              "          await google.colab.output.renderOutput(dataTable, element);\n",
              "          const docLink = document.createElement('div');\n",
              "          docLink.innerHTML = docLinkHtml;\n",
              "          element.appendChild(docLink);\n",
              "        }\n",
              "      </script>\n",
              "    </div>\n",
              "  </div>\n",
              "  "
            ]
          },
          "metadata": {},
          "execution_count": 56
        }
      ]
    },
    {
      "cell_type": "code",
      "source": [
        "input=torch.Tensor([train['tokens'][0]])\n",
        "mask=torch.Tensor([train['mask'][0]])\n",
        "\n",
        "input=input.type(torch.int32)\n",
        "mask=mask.type(torch.int32)"
      ],
      "metadata": {
        "id": "IRE5FcqDPNvn"
      },
      "execution_count": 57,
      "outputs": []
    },
    {
      "cell_type": "code",
      "source": [
        "mask=(input != mask).unsqueeze(1).unsqueeze(2)"
      ],
      "metadata": {
        "id": "Tthhi6dmPNtH"
      },
      "execution_count": 58,
      "outputs": []
    },
    {
      "cell_type": "code",
      "source": [
        "INPUT_DIM = 30000\n",
        "OUTPUT_DIM = 5\n",
        "HID_DIM = 512\n",
        "ENC_LAYERS = 1\n",
        "ENC_HEADS = 2\n",
        "ENC_PF_DIM = 3\n",
        "ENC_DROPOUT = 0.1\n",
        "\n",
        "enc = Encoder(INPUT_DIM,\n",
        "              OUTPUT_DIM,\n",
        "              HID_DIM,\n",
        "              ENC_LAYERS,\n",
        "              ENC_HEADS,\n",
        "              ENC_PF_DIM,\n",
        "              ENC_DROPOUT,\n",
        "              device)"
      ],
      "metadata": {
        "id": "MZglnP2Vnr2G"
      },
      "execution_count": 59,
      "outputs": []
    },
    {
      "cell_type": "code",
      "source": [
        "enc(input,mask)"
      ],
      "metadata": {
        "colab": {
          "base_uri": "https://localhost:8080/"
        },
        "id": "BY1g1RsCPNqg",
        "outputId": "51843903-affd-4ff1-85fc-8b4a43ad998d"
      },
      "execution_count": 60,
      "outputs": [
        {
          "output_type": "execute_result",
          "data": {
            "text/plain": [
              "tensor([[0.2337, 0.2861, 0.1404, 0.1722, 0.1676]], grad_fn=<SoftmaxBackward0>)"
            ]
          },
          "metadata": {},
          "execution_count": 60
        }
      ]
    },
    {
      "cell_type": "code",
      "source": [
        "data=train.sample(4)  #with repetition\n",
        "\n",
        "inputs= torch.Tensor(np.vstack(data['tokens']))\n",
        "masks=torch.Tensor(np.vstack(data['mask']))\n",
        "\n",
        "inputs=inputs.type(torch.int32)\n",
        "masks=masks.type(torch.int32)\n",
        "\n",
        "masks=(inputs != masks).unsqueeze(1).unsqueeze(2)"
      ],
      "metadata": {
        "id": "cF9wtQXlvMsj"
      },
      "execution_count": 61,
      "outputs": []
    },
    {
      "cell_type": "code",
      "source": [
        "enc(inputs,masks)"
      ],
      "metadata": {
        "colab": {
          "base_uri": "https://localhost:8080/"
        },
        "id": "1R_Q4_8xwoSJ",
        "outputId": "92cdd835-f8c2-4e30-9e3b-4451488b1f84"
      },
      "execution_count": 62,
      "outputs": [
        {
          "output_type": "execute_result",
          "data": {
            "text/plain": [
              "tensor([[0.3415, 0.2575, 0.0948, 0.1387, 0.1675],\n",
              "        [0.3057, 0.2357, 0.0990, 0.1528, 0.2068],\n",
              "        [0.3132, 0.2555, 0.1208, 0.1427, 0.1679],\n",
              "        [0.3335, 0.2343, 0.1166, 0.1497, 0.1659]], grad_fn=<SoftmaxBackward0>)"
            ]
          },
          "metadata": {},
          "execution_count": 62
        }
      ]
    },
    {
      "cell_type": "code",
      "source": [
        "train['Sentiment'].hist()\n"
      ],
      "metadata": {
        "id": "rESM3MNo_7Pi",
        "outputId": "9bf44dec-bf50-48a9-af21-b9c75d37e92c",
        "colab": {
          "base_uri": "https://localhost:8080/",
          "height": 447
        }
      },
      "execution_count": 78,
      "outputs": [
        {
          "output_type": "execute_result",
          "data": {
            "text/plain": [
              "<Axes: >"
            ]
          },
          "metadata": {},
          "execution_count": 78
        },
        {
          "output_type": "display_data",
          "data": {
            "text/plain": [
              "<Figure size 640x480 with 1 Axes>"
            ],
            "image/png": "[encoded data removed]"
          },
          "metadata": {}
        }
      ]
    },
    {
      "cell_type": "code",
      "source": [
        " train['weigth'].hist()"
      ],
      "metadata": {
        "id": "JSi1ulRQMdSN",
        "outputId": "28bedef8-ecd5-4a81-d4e3-d4c393a9d690",
        "colab": {
          "base_uri": "https://localhost:8080/",
          "height": 447
        }
      },
      "execution_count": 93,
      "outputs": [
        {
          "output_type": "execute_result",
          "data": {
            "text/plain": [
              "<Axes: >"
            ]
          },
          "metadata": {},
          "execution_count": 93
        },
        {
          "output_type": "display_data",
          "data": {
            "text/plain": [
              "<Figure size 640x480 with 1 Axes>"
            ],
            "image/png": "[encoded data removed]"
          },
          "metadata": {}
        }
      ]
    },
    {
      "cell_type": "code",
      "source": [
        "import sklearn\n",
        "from sklearn.utils.class_weight import compute_sample_weight\n",
        "\n",
        "y = train['Sentiment']\n",
        "train['weigth']=compute_sample_weight(class_weight='balanced', y=y)"
      ],
      "metadata": {
        "id": "auH31oaYL18F"
      },
      "execution_count": 88,
      "outputs": []
    },
    {
      "cell_type": "code",
      "source": [
        "import torch.optim as optim\n",
        "import torch.nn.functional as F\n",
        "\n",
        "\n",
        "optimizer = optim.Adam(enc.parameters(), lr=0.05)\n",
        "\n",
        "\n",
        "def trainning(epoch):\n",
        "    running_loss = 0.\n",
        "    last_loss = 0.\n",
        "    batch=64\n",
        "\n",
        "    for i in range(epoch):\n",
        "        # Every data instance is an input + label pair\n",
        "        data=train.sample(batch,weights = train['weigth'])  #with repetition\n",
        "\n",
        "        inputs= torch.Tensor(np.vstack(data['tokens']))\n",
        "        masks=torch.Tensor(np.vstack(data['mask']))\n",
        "\n",
        "        inputs=inputs.type(torch.int32)\n",
        "        masks=masks.type(torch.int32)\n",
        "\n",
        "        masks=(inputs != masks).unsqueeze(1).unsqueeze(2)\n",
        "\n",
        "        labels=torch.FloatTensor(data['Sentiment'].to_numpy())\n",
        "        labels=labels.type(torch.int64)\n",
        "\n",
        "        # Zero your gradients for every batch!\n",
        "        optimizer.zero_grad()\n",
        "\n",
        "        # Make predictions for this batch\n",
        "        outputs = enc(inputs,masks)\n",
        "        print(outputs)\n",
        "        print(labels)\n",
        "        # Compute the loss and its gradients\n",
        "        loss = F.cross_entropy(outputs, labels)\n",
        "        loss.backward()\n",
        "\n",
        "        # Adjust learning weights\n",
        "        optimizer.step()\n",
        "\n",
        "\n",
        "\n",
        "    return last_loss\n",
        "\n",
        "trainning(5)"
      ],
      "metadata": {
        "colab": {
          "base_uri": "https://localhost:8080/"
        },
        "id": "1aAs9kOFPNoA",
        "outputId": "06f15c0d-7293-4d05-bb83-72dce8549b9c"
      },
      "execution_count": 89,
      "outputs": [
        {
          "output_type": "stream",
          "name": "stdout",
          "text": [
            "tensor([[2.3825e-21, 2.6395e-26, 1.0000e+00, 2.4438e-21, 1.2113e-19],\n",
            "        [2.6313e-19, 1.3369e-23, 1.0000e+00, 6.2531e-19, 1.5824e-17],\n",
            "        [1.5123e-21, 5.0753e-27, 1.0000e+00, 4.1438e-22, 6.2854e-20],\n",
            "        [5.0453e-22, 3.0191e-27, 1.0000e+00, 2.8501e-22, 1.9683e-20],\n",
            "        [7.8813e-20, 1.7164e-24, 1.0000e+00, 1.1341e-19, 5.0688e-18],\n",
            "        [7.1915e-22, 2.2004e-26, 1.0000e+00, 2.1569e-21, 3.9066e-20],\n",
            "        [5.7376e-19, 1.0299e-22, 1.0000e+00, 3.0100e-18, 3.4316e-17],\n",
            "        [8.2647e-20, 4.2425e-24, 1.0000e+00, 1.9378e-19, 4.6622e-18],\n",
            "        [5.3242e-20, 1.4685e-24, 1.0000e+00, 1.0869e-19, 3.2478e-18],\n",
            "        [2.4743e-19, 5.1195e-24, 1.0000e+00, 2.7726e-19, 2.0150e-17],\n",
            "        [7.4133e-22, 5.7534e-27, 1.0000e+00, 6.6350e-22, 4.7001e-20],\n",
            "        [1.1530e-19, 8.4217e-24, 1.0000e+00, 3.6275e-19, 6.6659e-18],\n",
            "        [3.0516e-21, 3.0713e-26, 1.0000e+00, 1.7832e-21, 1.4689e-19],\n",
            "        [4.5017e-20, 3.0596e-25, 1.0000e+00, 2.2471e-20, 2.3531e-18],\n",
            "        [1.3294e-21, 2.4230e-26, 1.0000e+00, 2.0459e-21, 4.6814e-20],\n",
            "        [6.6882e-19, 1.1846e-23, 1.0000e+00, 4.4748e-19, 5.3094e-17],\n",
            "        [1.6103e-18, 1.4239e-23, 1.0000e+00, 4.7008e-19, 7.7477e-17],\n",
            "        [9.4099e-20, 3.5748e-24, 1.0000e+00, 1.7726e-19, 6.4097e-18],\n",
            "        [5.8204e-20, 5.3610e-25, 1.0000e+00, 3.1596e-20, 3.4196e-18],\n",
            "        [1.0114e-21, 3.1580e-26, 1.0000e+00, 2.9515e-21, 6.4120e-20],\n",
            "        [2.2514e-19, 2.3407e-24, 1.0000e+00, 1.0836e-19, 1.1520e-17],\n",
            "        [2.5935e-19, 1.6543e-23, 1.0000e+00, 8.3964e-19, 1.7126e-17],\n",
            "        [2.3635e-20, 1.7481e-24, 1.0000e+00, 1.1134e-19, 1.8286e-18],\n",
            "        [6.9122e-20, 5.7373e-24, 1.0000e+00, 3.3438e-19, 5.4969e-18],\n",
            "        [2.1424e-22, 4.9981e-27, 1.0000e+00, 6.2113e-22, 1.1544e-20],\n",
            "        [9.0746e-21, 1.1004e-24, 1.0000e+00, 9.0546e-20, 6.0001e-19],\n",
            "        [4.0144e-20, 8.3999e-25, 1.0000e+00, 4.7483e-20, 2.7382e-18],\n",
            "        [5.9569e-22, 4.3461e-27, 1.0000e+00, 4.7173e-22, 3.9017e-20],\n",
            "        [3.4856e-20, 5.4210e-25, 1.0000e+00, 3.6031e-20, 2.0711e-18],\n",
            "        [2.0279e-19, 6.1165e-24, 1.0000e+00, 3.5261e-19, 1.4366e-17],\n",
            "        [9.4013e-20, 3.3517e-24, 1.0000e+00, 1.8312e-19, 7.3060e-18],\n",
            "        [6.2351e-20, 1.4306e-23, 1.0000e+00, 5.8100e-19, 3.6893e-18],\n",
            "        [4.3734e-22, 9.4112e-27, 1.0000e+00, 8.8656e-22, 2.1886e-20],\n",
            "        [6.7424e-20, 5.9590e-24, 1.0000e+00, 3.2692e-19, 4.3227e-18],\n",
            "        [1.0095e-22, 3.9823e-28, 1.0000e+00, 4.6696e-23, 6.4421e-21],\n",
            "        [1.0343e-19, 1.8627e-24, 1.0000e+00, 1.0556e-19, 7.5250e-18],\n",
            "        [1.4448e-20, 9.4888e-25, 1.0000e+00, 7.4553e-20, 1.0829e-18],\n",
            "        [2.1362e-19, 6.6303e-24, 1.0000e+00, 2.5933e-19, 1.2783e-17],\n",
            "        [1.5810e-21, 4.9847e-26, 1.0000e+00, 6.0561e-21, 1.0210e-19],\n",
            "        [2.7051e-21, 3.1095e-26, 1.0000e+00, 2.5637e-21, 1.4424e-19],\n",
            "        [5.2569e-21, 1.2688e-25, 1.0000e+00, 1.0765e-20, 3.5047e-19],\n",
            "        [3.1545e-20, 4.0777e-24, 1.0000e+00, 2.2625e-19, 2.0558e-18],\n",
            "        [2.5417e-20, 8.3916e-26, 1.0000e+00, 6.8886e-21, 1.2761e-18],\n",
            "        [1.0554e-20, 2.9007e-25, 1.0000e+00, 2.9335e-20, 6.3524e-19],\n",
            "        [8.2013e-21, 2.6200e-25, 1.0000e+00, 1.7381e-20, 4.7100e-19],\n",
            "        [1.4165e-20, 5.9901e-25, 1.0000e+00, 4.7241e-20, 1.1627e-18],\n",
            "        [1.2990e-19, 6.9676e-24, 1.0000e+00, 3.1875e-19, 8.2838e-18],\n",
            "        [2.5948e-20, 3.1063e-24, 1.0000e+00, 1.8116e-19, 1.6873e-18],\n",
            "        [1.4267e-19, 2.2022e-23, 1.0000e+00, 1.0053e-18, 9.6199e-18],\n",
            "        [1.3955e-19, 3.5703e-24, 1.0000e+00, 2.0901e-19, 1.0578e-17],\n",
            "        [2.4237e-19, 1.2444e-23, 1.0000e+00, 6.2158e-19, 1.7184e-17],\n",
            "        [1.1606e-21, 2.1933e-26, 1.0000e+00, 1.9679e-21, 7.6563e-20],\n",
            "        [6.2980e-19, 7.4132e-24, 1.0000e+00, 3.7978e-19, 2.9282e-17],\n",
            "        [3.3857e-19, 1.8721e-24, 1.0000e+00, 1.1728e-19, 1.7374e-17],\n",
            "        [1.9245e-19, 1.3185e-23, 1.0000e+00, 6.6503e-19, 1.3902e-17],\n",
            "        [1.1601e-19, 1.0652e-24, 1.0000e+00, 5.9856e-20, 7.7664e-18],\n",
            "        [5.1936e-21, 4.5469e-26, 1.0000e+00, 3.0343e-21, 1.8038e-19],\n",
            "        [1.3974e-19, 1.6146e-23, 1.0000e+00, 5.9710e-19, 7.2805e-18],\n",
            "        [4.3587e-20, 9.4423e-24, 1.0000e+00, 6.4268e-19, 2.9194e-18],\n",
            "        [2.4612e-20, 5.2964e-25, 1.0000e+00, 3.7744e-20, 1.2024e-18],\n",
            "        [5.7658e-21, 1.9980e-25, 1.0000e+00, 1.8481e-20, 3.5024e-19],\n",
            "        [8.3107e-22, 7.6341e-27, 1.0000e+00, 8.1623e-22, 4.5069e-20],\n",
            "        [1.7877e-20, 3.8663e-25, 1.0000e+00, 2.6213e-20, 1.0985e-18],\n",
            "        [4.1211e-20, 4.3442e-24, 1.0000e+00, 2.0775e-19, 2.7435e-18]],\n",
            "       grad_fn=<SoftmaxBackward0>)\n",
            "tensor([0, 1, 3, 3, 1, 4, 2, 2, 4, 0, 1, 0, 4, 3, 1, 2, 0, 2, 3, 3, 4, 4, 2, 2,\n",
            "        4, 2, 4, 2, 0, 2, 1, 0, 0, 3, 2, 0, 2, 4, 1, 1, 1, 1, 0, 0, 4, 0, 4, 3,\n",
            "        0, 3, 3, 4, 0, 4, 3, 2, 4, 0, 1, 0, 1, 0, 3, 3])\n",
            "tensor([[5.9144e-21, 7.9864e-26, 1.0000e+00, 7.2176e-21, 3.3830e-19],\n",
            "        [3.3982e-21, 5.9544e-27, 1.0000e+00, 5.6807e-22, 1.6481e-19],\n",
            "        [6.5237e-23, 1.1225e-27, 1.0000e+00, 1.5267e-22, 2.9528e-21],\n",
            "        [3.3910e-19, 2.9538e-23, 1.0000e+00, 1.2458e-18, 2.2093e-17],\n",
            "        [6.7115e-21, 1.6134e-24, 1.0000e+00, 1.1726e-19, 3.8667e-19],\n",
            "        [3.8241e-21, 2.1428e-26, 1.0000e+00, 1.9157e-21, 1.2389e-19],\n",
            "        [5.5155e-21, 6.6371e-26, 1.0000e+00, 3.9573e-21, 2.5905e-19],\n",
            "        [5.5892e-20, 2.4784e-24, 1.0000e+00, 1.5206e-19, 3.5614e-18],\n",
            "        [1.5893e-18, 2.3341e-22, 1.0000e+00, 6.2048e-18, 1.0586e-16],\n",
            "        [8.5095e-20, 2.7746e-24, 1.0000e+00, 1.5643e-19, 6.6082e-18],\n",
            "        [4.6715e-20, 2.2799e-25, 1.0000e+00, 1.6838e-20, 2.2838e-18],\n",
            "        [8.2790e-22, 2.4639e-26, 1.0000e+00, 2.3457e-21, 4.2868e-20],\n",
            "        [3.9078e-22, 6.9466e-27, 1.0000e+00, 7.7426e-22, 1.8648e-20],\n",
            "        [2.2624e-20, 1.2348e-24, 1.0000e+00, 9.2472e-20, 1.5309e-18],\n",
            "        [1.5262e-20, 4.8722e-25, 1.0000e+00, 4.4435e-20, 8.1989e-19],\n",
            "        [4.0525e-19, 2.4351e-23, 1.0000e+00, 9.4042e-19, 2.7161e-17],\n",
            "        [7.0655e-21, 3.7068e-26, 1.0000e+00, 3.2018e-21, 4.2842e-19],\n",
            "        [1.5473e-19, 2.9569e-23, 1.0000e+00, 9.8184e-19, 9.6346e-18],\n",
            "        [2.0096e-20, 4.9333e-25, 1.0000e+00, 3.7146e-20, 1.2748e-18],\n",
            "        [3.0029e-19, 5.2928e-23, 1.0000e+00, 1.8796e-18, 1.6712e-17],\n",
            "        [1.9084e-20, 4.4931e-25, 1.0000e+00, 3.3231e-20, 1.3053e-18],\n",
            "        [1.5832e-20, 2.5284e-25, 1.0000e+00, 1.6163e-20, 8.7587e-19],\n",
            "        [7.8706e-22, 1.3777e-27, 1.0000e+00, 2.3702e-22, 3.0252e-20],\n",
            "        [4.2962e-21, 6.0251e-26, 1.0000e+00, 4.0515e-21, 2.0014e-19],\n",
            "        [4.4143e-19, 4.0444e-23, 1.0000e+00, 1.8765e-18, 2.7110e-17],\n",
            "        [2.5562e-19, 1.9026e-23, 1.0000e+00, 8.1943e-19, 1.6157e-17],\n",
            "        [6.0958e-21, 2.5764e-26, 1.0000e+00, 2.3265e-21, 3.0419e-19],\n",
            "        [1.3564e-20, 2.0549e-24, 1.0000e+00, 1.4209e-19, 9.2759e-19],\n",
            "        [1.3952e-19, 1.4357e-24, 1.0000e+00, 1.1290e-19, 6.9991e-18],\n",
            "        [6.2605e-21, 4.7048e-26, 1.0000e+00, 3.7816e-21, 4.0547e-19],\n",
            "        [1.8404e-20, 3.2273e-25, 1.0000e+00, 3.0628e-20, 9.4760e-19],\n",
            "        [5.3464e-20, 2.0363e-25, 1.0000e+00, 1.0990e-20, 2.4271e-18],\n",
            "        [2.0095e-19, 7.3755e-24, 1.0000e+00, 3.5021e-19, 1.0058e-17],\n",
            "        [1.7557e-20, 5.1612e-25, 1.0000e+00, 3.2878e-20, 1.1339e-18],\n",
            "        [5.6155e-21, 1.9138e-25, 1.0000e+00, 1.2023e-20, 3.1830e-19],\n",
            "        [2.2922e-20, 2.3419e-24, 1.0000e+00, 1.3315e-19, 1.5599e-18],\n",
            "        [3.8548e-20, 8.6137e-25, 1.0000e+00, 5.0703e-20, 2.2464e-18],\n",
            "        [7.6830e-22, 1.1752e-26, 1.0000e+00, 1.4889e-21, 4.0396e-20],\n",
            "        [2.7674e-19, 2.6876e-24, 1.0000e+00, 1.8466e-19, 1.4363e-17],\n",
            "        [7.9307e-22, 2.1830e-26, 1.0000e+00, 1.9052e-21, 4.2156e-20],\n",
            "        [3.5151e-20, 6.6208e-25, 1.0000e+00, 4.0861e-20, 2.3943e-18],\n",
            "        [2.0428e-20, 4.6262e-25, 1.0000e+00, 2.8519e-20, 9.0940e-19],\n",
            "        [1.9322e-20, 1.8937e-25, 1.0000e+00, 1.7862e-20, 9.5906e-19],\n",
            "        [1.7483e-19, 1.8679e-23, 1.0000e+00, 1.0649e-18, 1.2898e-17],\n",
            "        [3.2066e-20, 9.1422e-25, 1.0000e+00, 5.4537e-20, 2.0678e-18],\n",
            "        [2.1256e-19, 6.0532e-24, 1.0000e+00, 2.5896e-19, 1.3735e-17],\n",
            "        [3.6512e-20, 9.6362e-25, 1.0000e+00, 7.1230e-20, 2.3424e-18],\n",
            "        [4.3888e-22, 7.6342e-27, 1.0000e+00, 1.0455e-21, 2.4239e-20],\n",
            "        [8.2978e-19, 8.2832e-23, 1.0000e+00, 2.7694e-18, 5.0820e-17],\n",
            "        [3.5064e-19, 2.4905e-23, 1.0000e+00, 1.2695e-18, 2.3397e-17],\n",
            "        [4.2898e-20, 4.3225e-25, 1.0000e+00, 3.0490e-20, 2.4378e-18],\n",
            "        [2.4345e-19, 1.3861e-23, 1.0000e+00, 5.3625e-19, 1.5023e-17],\n",
            "        [2.0570e-19, 1.1905e-23, 1.0000e+00, 5.5998e-19, 1.2782e-17],\n",
            "        [3.1496e-19, 8.7291e-23, 1.0000e+00, 2.9082e-18, 1.9286e-17],\n",
            "        [6.5291e-21, 6.8549e-26, 1.0000e+00, 5.7426e-21, 3.4190e-19],\n",
            "        [9.6267e-21, 2.3182e-25, 1.0000e+00, 1.7948e-20, 5.8836e-19],\n",
            "        [1.1727e-20, 7.6045e-25, 1.0000e+00, 6.3086e-20, 7.2991e-19],\n",
            "        [1.0544e-20, 3.3664e-25, 1.0000e+00, 1.8449e-20, 5.2771e-19],\n",
            "        [1.8566e-19, 5.7145e-24, 1.0000e+00, 3.3281e-19, 1.3240e-17],\n",
            "        [8.7151e-22, 2.5075e-26, 1.0000e+00, 3.1198e-21, 5.7103e-20],\n",
            "        [4.3287e-20, 1.5388e-24, 1.0000e+00, 1.1654e-19, 3.4666e-18],\n",
            "        [7.6677e-21, 3.3782e-25, 1.0000e+00, 1.9438e-20, 4.2747e-19],\n",
            "        [2.6659e-21, 3.0200e-26, 1.0000e+00, 2.7287e-21, 1.2209e-19],\n",
            "        [1.2158e-19, 7.0560e-24, 1.0000e+00, 3.3617e-19, 8.8576e-18]],\n",
            "       grad_fn=<SoftmaxBackward0>)\n",
            "tensor([4, 3, 0, 2, 1, 1, 1, 4, 2, 0, 0, 4, 1, 2, 4, 3, 1, 2, 0, 4, 1, 4, 0, 1,\n",
            "        2, 3, 4, 3, 2, 0, 1, 4, 0, 2, 0, 2, 4, 1, 3, 1, 2, 0, 0, 1, 2, 1, 1, 1,\n",
            "        3, 2, 4, 1, 4, 2, 2, 1, 1, 4, 2, 1, 1, 1, 4, 2])\n",
            "tensor([[4.1498e-19, 2.4183e-23, 1.0000e+00, 6.6998e-19, 2.9527e-17],\n",
            "        [1.8787e-19, 2.2550e-23, 1.0000e+00, 9.0340e-19, 1.2363e-17],\n",
            "        [4.6726e-21, 1.9312e-25, 1.0000e+00, 1.3560e-20, 2.4369e-19],\n",
            "        [8.6180e-20, 1.6331e-24, 1.0000e+00, 9.3251e-20, 4.9332e-18],\n",
            "        [2.1938e-20, 6.2023e-25, 1.0000e+00, 5.0517e-20, 1.6631e-18],\n",
            "        [1.2823e-21, 3.2969e-26, 1.0000e+00, 2.8707e-21, 8.5941e-20],\n",
            "        [4.2090e-20, 1.2554e-23, 1.0000e+00, 7.5615e-19, 2.0471e-18],\n",
            "        [3.6575e-18, 1.6479e-22, 1.0000e+00, 8.0835e-18, 1.7756e-16],\n",
            "        [2.1741e-20, 3.6432e-25, 1.0000e+00, 2.7160e-20, 1.5477e-18],\n",
            "        [3.5234e-20, 1.1013e-24, 1.0000e+00, 7.3203e-20, 2.9407e-18],\n",
            "        [4.5957e-22, 6.8373e-27, 1.0000e+00, 5.4866e-22, 2.5175e-20],\n",
            "        [3.9483e-20, 2.7444e-24, 1.0000e+00, 1.8460e-19, 2.6077e-18],\n",
            "        [1.1936e-18, 1.1843e-23, 1.0000e+00, 5.3766e-19, 7.9442e-17],\n",
            "        [6.9376e-23, 5.9355e-28, 1.0000e+00, 6.9569e-23, 3.4099e-21],\n",
            "        [4.5866e-20, 2.8518e-24, 1.0000e+00, 1.4553e-19, 3.1124e-18],\n",
            "        [8.9066e-21, 1.7065e-25, 1.0000e+00, 1.3985e-20, 4.4932e-19],\n",
            "        [4.5008e-20, 3.0499e-24, 1.0000e+00, 2.1247e-19, 3.6729e-18],\n",
            "        [2.8223e-22, 2.1032e-26, 1.0000e+00, 2.2438e-21, 1.3092e-20],\n",
            "        [1.8242e-21, 5.8917e-26, 1.0000e+00, 5.8137e-21, 1.2322e-19],\n",
            "        [2.2085e-20, 3.4384e-24, 1.0000e+00, 2.3640e-19, 1.3747e-18],\n",
            "        [1.2979e-20, 3.1310e-25, 1.0000e+00, 2.6367e-20, 8.1374e-19],\n",
            "        [4.7568e-19, 2.8967e-23, 1.0000e+00, 1.3189e-18, 3.1727e-17],\n",
            "        [2.4613e-20, 3.3927e-24, 1.0000e+00, 2.3466e-19, 1.6928e-18],\n",
            "        [3.2582e-18, 1.0209e-22, 1.0000e+00, 3.5416e-18, 2.3386e-16],\n",
            "        [3.9260e-21, 7.5130e-27, 1.0000e+00, 5.2578e-22, 1.3260e-19],\n",
            "        [3.2075e-20, 3.6852e-24, 1.0000e+00, 2.5505e-19, 1.9403e-18],\n",
            "        [7.3238e-20, 8.7627e-24, 1.0000e+00, 5.2165e-19, 4.5816e-18],\n",
            "        [2.3386e-19, 2.4945e-23, 1.0000e+00, 1.2290e-18, 1.6752e-17],\n",
            "        [1.8993e-20, 2.7497e-24, 1.0000e+00, 1.3559e-19, 1.1327e-18],\n",
            "        [1.9725e-19, 3.5826e-23, 1.0000e+00, 1.6932e-18, 1.4580e-17],\n",
            "        [4.8215e-22, 6.3361e-27, 1.0000e+00, 6.7336e-22, 2.7870e-20],\n",
            "        [5.5528e-19, 1.9577e-23, 1.0000e+00, 8.8130e-19, 3.8074e-17],\n",
            "        [1.3335e-21, 6.3258e-27, 1.0000e+00, 6.1966e-22, 5.2312e-20],\n",
            "        [4.9834e-21, 6.2681e-26, 1.0000e+00, 5.1066e-21, 2.6379e-19],\n",
            "        [1.0669e-19, 4.9018e-24, 1.0000e+00, 2.8934e-19, 6.8312e-18],\n",
            "        [4.5554e-21, 6.8702e-26, 1.0000e+00, 6.8232e-21, 2.2971e-19],\n",
            "        [1.0792e-20, 2.5486e-24, 1.0000e+00, 1.6372e-19, 6.5281e-19],\n",
            "        [4.5335e-21, 2.9217e-25, 1.0000e+00, 2.3606e-20, 2.8883e-19],\n",
            "        [5.9094e-20, 2.8437e-25, 1.0000e+00, 2.8310e-20, 3.7256e-18],\n",
            "        [9.1163e-20, 5.5371e-24, 1.0000e+00, 3.0201e-19, 6.4671e-18],\n",
            "        [1.0241e-21, 1.4999e-26, 1.0000e+00, 1.5910e-21, 6.9019e-20],\n",
            "        [6.0988e-20, 8.1233e-25, 1.0000e+00, 5.1620e-20, 3.1527e-18],\n",
            "        [1.2340e-19, 1.1221e-23, 1.0000e+00, 6.0784e-19, 8.4330e-18],\n",
            "        [7.7562e-22, 2.3221e-27, 1.0000e+00, 2.1071e-22, 2.9315e-20],\n",
            "        [1.9215e-21, 3.4567e-26, 1.0000e+00, 3.7600e-21, 1.2594e-19],\n",
            "        [1.5547e-20, 9.0633e-26, 1.0000e+00, 7.2979e-21, 6.9944e-19],\n",
            "        [1.3590e-19, 5.4736e-24, 1.0000e+00, 2.6042e-19, 8.0665e-18],\n",
            "        [3.5605e-19, 3.8899e-23, 1.0000e+00, 1.7946e-18, 2.5533e-17],\n",
            "        [2.5001e-20, 1.0811e-24, 1.0000e+00, 6.5541e-20, 1.6679e-18],\n",
            "        [6.5817e-19, 8.7448e-23, 1.0000e+00, 3.2946e-18, 4.3494e-17],\n",
            "        [2.8157e-20, 5.5011e-25, 1.0000e+00, 4.6069e-20, 1.8826e-18],\n",
            "        [3.0937e-20, 1.2874e-24, 1.0000e+00, 9.1740e-20, 2.3250e-18],\n",
            "        [1.7915e-22, 2.5517e-27, 1.0000e+00, 2.4763e-22, 8.2492e-21],\n",
            "        [2.6660e-21, 1.1996e-25, 1.0000e+00, 8.9831e-21, 1.3773e-19],\n",
            "        [7.6374e-21, 1.1908e-25, 1.0000e+00, 1.0497e-20, 5.4901e-19],\n",
            "        [1.2285e-19, 3.1971e-24, 1.0000e+00, 1.8647e-19, 8.9521e-18],\n",
            "        [9.5149e-20, 7.0025e-24, 1.0000e+00, 3.2897e-19, 5.6935e-18],\n",
            "        [3.7822e-22, 3.9874e-27, 1.0000e+00, 5.1456e-22, 1.8164e-20],\n",
            "        [1.5858e-19, 9.0719e-24, 1.0000e+00, 3.9863e-19, 1.0650e-17],\n",
            "        [1.1081e-20, 1.2138e-24, 1.0000e+00, 6.8748e-20, 6.9160e-19],\n",
            "        [1.0428e-19, 3.6705e-24, 1.0000e+00, 2.2595e-19, 6.6725e-18],\n",
            "        [1.6673e-21, 1.0019e-26, 1.0000e+00, 8.6898e-22, 7.0751e-20],\n",
            "        [1.6077e-21, 2.6696e-26, 1.0000e+00, 1.8151e-21, 8.1950e-20],\n",
            "        [1.0803e-19, 3.5360e-24, 1.0000e+00, 2.0070e-19, 6.8652e-18]],\n",
            "       grad_fn=<SoftmaxBackward0>)\n",
            "tensor([1, 3, 4, 4, 3, 4, 4, 0, 4, 0, 2, 3, 3, 4, 3, 4, 1, 0, 0, 2, 0, 1, 2, 3,\n",
            "        0, 1, 4, 2, 3, 1, 2, 2, 0, 4, 0, 0, 3, 3, 1, 3, 1, 2, 0, 4, 4, 0, 4, 2,\n",
            "        4, 2, 3, 4, 3, 2, 4, 3, 4, 4, 2, 0, 4, 4, 2, 1])\n",
            "tensor([[6.3204e-20, 1.1212e-23, 1.0000e+00, 5.2292e-19, 3.4763e-18],\n",
            "        [5.1887e-20, 9.9655e-25, 1.0000e+00, 8.1628e-20, 3.6384e-18],\n",
            "        [8.0963e-20, 7.2256e-24, 1.0000e+00, 3.7300e-19, 5.4350e-18],\n",
            "        [2.3841e-20, 1.7157e-24, 1.0000e+00, 1.0218e-19, 1.9043e-18],\n",
            "        [6.4856e-21, 6.5381e-25, 1.0000e+00, 6.0900e-20, 4.1579e-19],\n",
            "        [8.2447e-21, 2.4079e-25, 1.0000e+00, 1.4783e-20, 3.8735e-19],\n",
            "        [1.5804e-20, 7.2071e-26, 1.0000e+00, 5.5700e-21, 7.4350e-19],\n",
            "        [4.0301e-20, 9.0832e-25, 1.0000e+00, 6.2383e-20, 2.5689e-18],\n",
            "        [5.6577e-20, 4.2612e-24, 1.0000e+00, 2.4078e-19, 4.0384e-18],\n",
            "        [7.7531e-21, 1.1008e-25, 1.0000e+00, 8.7877e-21, 4.2890e-19],\n",
            "        [4.1563e-20, 1.6734e-24, 1.0000e+00, 8.8361e-20, 2.5509e-18],\n",
            "        [1.2647e-21, 4.0606e-26, 1.0000e+00, 4.6861e-21, 7.0689e-20],\n",
            "        [1.0125e-19, 1.3346e-23, 1.0000e+00, 7.1246e-19, 5.7588e-18],\n",
            "        [1.0356e-21, 2.4536e-26, 1.0000e+00, 1.8259e-21, 5.9989e-20],\n",
            "        [2.3767e-19, 1.7144e-24, 1.0000e+00, 7.9767e-20, 1.4068e-17],\n",
            "        [1.5344e-19, 3.4523e-24, 1.0000e+00, 1.5728e-19, 1.1070e-17],\n",
            "        [1.6358e-20, 6.7957e-25, 1.0000e+00, 4.3545e-20, 9.8257e-19],\n",
            "        [1.3397e-20, 1.4544e-25, 1.0000e+00, 1.0603e-20, 6.5939e-19],\n",
            "        [3.1223e-20, 1.9299e-24, 1.0000e+00, 1.2499e-19, 2.0685e-18],\n",
            "        [1.3323e-20, 2.0649e-25, 1.0000e+00, 1.5479e-20, 6.7278e-19],\n",
            "        [2.3969e-20, 4.1039e-25, 1.0000e+00, 2.6477e-20, 1.0914e-18],\n",
            "        [3.6648e-19, 1.1440e-24, 1.0000e+00, 8.5541e-20, 2.3960e-17],\n",
            "        [2.9257e-20, 2.3068e-24, 1.0000e+00, 1.5330e-19, 2.1482e-18],\n",
            "        [3.2909e-20, 4.0600e-25, 1.0000e+00, 2.4499e-20, 1.7892e-18],\n",
            "        [1.0618e-19, 1.8655e-23, 1.0000e+00, 8.4973e-19, 6.3332e-18],\n",
            "        [1.7127e-19, 1.6953e-23, 1.0000e+00, 9.1054e-19, 1.1431e-17],\n",
            "        [1.9976e-21, 1.1743e-25, 1.0000e+00, 1.1386e-20, 1.0285e-19],\n",
            "        [2.9385e-21, 3.9339e-26, 1.0000e+00, 2.2790e-21, 1.3612e-19],\n",
            "        [4.3406e-20, 2.7319e-24, 1.0000e+00, 1.2561e-19, 2.8365e-18],\n",
            "        [1.3443e-19, 2.5265e-24, 1.0000e+00, 1.7826e-19, 9.3704e-18],\n",
            "        [6.5328e-19, 3.1714e-23, 1.0000e+00, 1.1810e-18, 4.4710e-17],\n",
            "        [1.1306e-21, 8.2572e-26, 1.0000e+00, 6.5708e-21, 6.4105e-20],\n",
            "        [1.5424e-19, 1.8863e-23, 1.0000e+00, 9.1598e-19, 9.8572e-18],\n",
            "        [2.4096e-21, 1.9135e-25, 1.0000e+00, 1.4894e-20, 1.4723e-19],\n",
            "        [4.7735e-23, 9.5875e-28, 1.0000e+00, 9.4280e-23, 2.2912e-21],\n",
            "        [2.0123e-19, 1.1376e-23, 1.0000e+00, 6.1603e-19, 1.2963e-17],\n",
            "        [3.6270e-19, 2.1170e-23, 1.0000e+00, 8.4678e-19, 2.0125e-17],\n",
            "        [1.6794e-19, 6.4457e-24, 1.0000e+00, 3.1460e-19, 1.1914e-17],\n",
            "        [1.2265e-20, 1.7741e-24, 1.0000e+00, 1.4344e-19, 1.0292e-18],\n",
            "        [5.5431e-20, 1.5063e-24, 1.0000e+00, 8.7300e-20, 3.3915e-18],\n",
            "        [2.9463e-20, 1.9906e-24, 1.0000e+00, 1.1744e-19, 1.8705e-18],\n",
            "        [2.1194e-21, 3.3510e-26, 1.0000e+00, 3.1346e-21, 1.1740e-19],\n",
            "        [2.9971e-20, 4.4812e-25, 1.0000e+00, 3.5700e-20, 2.1874e-18],\n",
            "        [1.9641e-21, 8.1116e-26, 1.0000e+00, 6.5774e-21, 1.0811e-19],\n",
            "        [5.3836e-20, 2.5999e-24, 1.0000e+00, 1.0892e-19, 2.9485e-18],\n",
            "        [7.2676e-20, 6.9902e-24, 1.0000e+00, 3.5910e-19, 4.8917e-18],\n",
            "        [1.4208e-20, 1.7392e-24, 1.0000e+00, 1.0737e-19, 7.8053e-19],\n",
            "        [1.8666e-20, 4.8517e-25, 1.0000e+00, 3.3207e-20, 1.0121e-18],\n",
            "        [2.5935e-20, 3.3280e-24, 1.0000e+00, 2.0196e-19, 1.7080e-18],\n",
            "        [3.9834e-20, 1.0926e-24, 1.0000e+00, 8.1741e-20, 2.6369e-18],\n",
            "        [5.9524e-19, 7.2079e-23, 1.0000e+00, 2.6288e-18, 3.5944e-17],\n",
            "        [1.7322e-19, 2.5224e-23, 1.0000e+00, 1.1851e-18, 1.0815e-17],\n",
            "        [5.8181e-20, 4.7213e-24, 1.0000e+00, 2.6528e-19, 4.0135e-18],\n",
            "        [1.9148e-20, 3.2588e-24, 1.0000e+00, 1.4496e-19, 9.8351e-19],\n",
            "        [2.4504e-19, 2.1259e-23, 1.0000e+00, 9.1878e-19, 1.7500e-17],\n",
            "        [2.0884e-20, 1.7256e-24, 1.0000e+00, 1.2129e-19, 1.2341e-18],\n",
            "        [2.2980e-20, 1.0765e-24, 1.0000e+00, 6.6145e-20, 1.2721e-18],\n",
            "        [7.5820e-18, 4.6612e-22, 1.0000e+00, 1.3586e-17, 3.6751e-16],\n",
            "        [1.4648e-21, 4.3414e-27, 1.0000e+00, 5.4751e-22, 7.3603e-20],\n",
            "        [8.6508e-20, 9.8842e-25, 1.0000e+00, 7.4167e-20, 6.6887e-18],\n",
            "        [1.7855e-20, 3.6814e-24, 1.0000e+00, 2.3284e-19, 1.1325e-18],\n",
            "        [4.5621e-20, 1.2919e-24, 1.0000e+00, 8.6950e-20, 2.8737e-18],\n",
            "        [7.1255e-20, 3.6806e-24, 1.0000e+00, 1.5664e-19, 4.1543e-18],\n",
            "        [2.1256e-20, 9.4053e-25, 1.0000e+00, 6.1706e-20, 1.1785e-18]],\n",
            "       grad_fn=<SoftmaxBackward0>)\n",
            "tensor([2, 0, 1, 2, 0, 4, 0, 4, 1, 3, 3, 3, 3, 2, 2, 3, 1, 1, 3, 1, 1, 4, 3, 2,\n",
            "        1, 2, 2, 3, 2, 4, 0, 1, 2, 2, 4, 0, 0, 4, 3, 0, 3, 1, 3, 2, 0, 1, 0, 3,\n",
            "        3, 3, 4, 4, 2, 1, 3, 1, 0, 2, 1, 1, 4, 4, 1, 4])\n",
            "tensor([[5.4939e-20, 5.0599e-24, 1.0000e+00, 2.3646e-19, 3.1392e-18],\n",
            "        [1.8986e-21, 3.3747e-26, 1.0000e+00, 2.5607e-21, 7.9576e-20],\n",
            "        [1.0328e-21, 1.3676e-26, 1.0000e+00, 1.2496e-21, 4.5773e-20],\n",
            "        [4.2868e-22, 1.6578e-27, 1.0000e+00, 2.6820e-22, 2.3246e-20],\n",
            "        [1.0463e-19, 2.1485e-24, 1.0000e+00, 1.1172e-19, 6.7537e-18],\n",
            "        [3.4546e-20, 5.3435e-24, 1.0000e+00, 3.5596e-19, 2.0937e-18],\n",
            "        [4.1546e-20, 2.4056e-24, 1.0000e+00, 1.2727e-19, 2.1167e-18],\n",
            "        [1.3135e-21, 1.8875e-26, 1.0000e+00, 1.6736e-21, 8.5111e-20],\n",
            "        [7.3509e-19, 7.6577e-23, 1.0000e+00, 2.7214e-18, 5.5184e-17],\n",
            "        [2.4826e-21, 3.0677e-26, 1.0000e+00, 2.7058e-21, 1.5398e-19],\n",
            "        [9.8762e-21, 1.3496e-24, 1.0000e+00, 9.1459e-20, 6.6380e-19],\n",
            "        [1.8753e-20, 4.0657e-25, 1.0000e+00, 3.4676e-20, 1.2899e-18],\n",
            "        [5.0575e-20, 3.4328e-24, 1.0000e+00, 2.3206e-19, 3.1643e-18],\n",
            "        [3.7777e-20, 9.0110e-25, 1.0000e+00, 4.7998e-20, 2.2119e-18],\n",
            "        [7.2749e-20, 2.0489e-24, 1.0000e+00, 1.2116e-19, 4.9943e-18],\n",
            "        [4.0587e-22, 5.8170e-27, 1.0000e+00, 7.1428e-22, 2.1948e-20],\n",
            "        [3.7737e-20, 1.0256e-24, 1.0000e+00, 6.7000e-20, 2.3819e-18],\n",
            "        [1.2017e-20, 3.7083e-25, 1.0000e+00, 2.0644e-20, 5.6452e-19],\n",
            "        [2.8761e-19, 2.2016e-24, 1.0000e+00, 1.1790e-19, 1.2788e-17],\n",
            "        [8.0842e-20, 3.9659e-24, 1.0000e+00, 1.6456e-19, 5.1719e-18],\n",
            "        [2.1053e-20, 9.2035e-25, 1.0000e+00, 5.2253e-20, 1.3256e-18],\n",
            "        [1.3920e-21, 1.8222e-26, 1.0000e+00, 1.5272e-21, 5.9385e-20],\n",
            "        [2.0776e-20, 2.7909e-24, 1.0000e+00, 1.5732e-19, 1.1589e-18],\n",
            "        [1.3461e-19, 5.3423e-24, 1.0000e+00, 2.4753e-19, 8.6685e-18],\n",
            "        [1.4063e-19, 5.7808e-24, 1.0000e+00, 3.7487e-19, 9.7603e-18],\n",
            "        [1.3050e-21, 1.0600e-26, 1.0000e+00, 1.1809e-21, 7.2035e-20],\n",
            "        [1.2696e-19, 2.5454e-24, 1.0000e+00, 1.5711e-19, 8.2724e-18],\n",
            "        [2.5387e-21, 2.0835e-26, 1.0000e+00, 1.9274e-21, 1.4248e-19],\n",
            "        [1.4402e-19, 3.0986e-23, 1.0000e+00, 1.4882e-18, 9.7038e-18],\n",
            "        [4.8598e-20, 3.3009e-25, 1.0000e+00, 2.1143e-20, 2.6161e-18],\n",
            "        [2.7657e-20, 9.3812e-25, 1.0000e+00, 4.9066e-20, 1.5074e-18],\n",
            "        [4.7786e-20, 1.9057e-23, 1.0000e+00, 9.3986e-19, 2.9989e-18],\n",
            "        [6.3404e-20, 7.9677e-25, 1.0000e+00, 5.0042e-20, 4.5004e-18],\n",
            "        [4.2657e-20, 1.2828e-24, 1.0000e+00, 1.0203e-19, 2.9682e-18],\n",
            "        [1.3552e-20, 4.5762e-25, 1.0000e+00, 2.9879e-20, 8.1537e-19],\n",
            "        [3.4390e-20, 2.3322e-24, 1.0000e+00, 1.4111e-19, 2.4652e-18],\n",
            "        [1.7611e-18, 3.4391e-22, 1.0000e+00, 8.9721e-18, 9.1118e-17],\n",
            "        [2.0236e-19, 1.4838e-23, 1.0000e+00, 7.7004e-19, 1.5140e-17],\n",
            "        [2.4293e-21, 9.8538e-26, 1.0000e+00, 9.8869e-21, 1.3096e-19],\n",
            "        [2.8987e-19, 3.5252e-23, 1.0000e+00, 1.6875e-18, 1.7256e-17],\n",
            "        [2.0571e-20, 6.9588e-25, 1.0000e+00, 4.3013e-20, 1.3945e-18],\n",
            "        [2.5972e-19, 6.0610e-24, 1.0000e+00, 3.5739e-19, 1.7894e-17],\n",
            "        [3.1912e-20, 8.5092e-25, 1.0000e+00, 5.1349e-20, 2.0925e-18],\n",
            "        [1.1172e-21, 1.2805e-26, 1.0000e+00, 1.0659e-21, 5.1823e-20],\n",
            "        [1.2941e-20, 7.5370e-26, 1.0000e+00, 6.4886e-21, 4.3905e-19],\n",
            "        [5.5795e-20, 5.2879e-24, 1.0000e+00, 3.4070e-19, 3.5757e-18],\n",
            "        [1.7559e-19, 1.3141e-23, 1.0000e+00, 7.5625e-19, 1.1943e-17],\n",
            "        [1.0915e-20, 2.3867e-25, 1.0000e+00, 1.9377e-20, 7.0962e-19],\n",
            "        [2.2520e-21, 2.6037e-26, 1.0000e+00, 1.5772e-21, 9.7392e-20],\n",
            "        [1.6406e-21, 4.3645e-26, 1.0000e+00, 3.1156e-21, 1.0552e-19],\n",
            "        [2.1119e-20, 1.4479e-24, 1.0000e+00, 8.7597e-20, 1.2688e-18],\n",
            "        [9.4291e-22, 3.3023e-27, 1.0000e+00, 3.9110e-22, 5.3392e-20],\n",
            "        [1.3239e-19, 1.1619e-23, 1.0000e+00, 5.0723e-19, 8.6324e-18],\n",
            "        [2.0890e-20, 1.9633e-25, 1.0000e+00, 1.4148e-20, 1.2046e-18],\n",
            "        [2.7700e-23, 2.3858e-27, 1.0000e+00, 2.0315e-22, 1.1743e-21],\n",
            "        [1.8370e-20, 3.5937e-25, 1.0000e+00, 3.1474e-20, 7.7263e-19],\n",
            "        [4.8200e-19, 7.6720e-23, 1.0000e+00, 2.6013e-18, 3.4220e-17],\n",
            "        [3.0675e-21, 3.0213e-26, 1.0000e+00, 2.7934e-21, 1.6676e-19],\n",
            "        [3.9667e-21, 1.6515e-25, 1.0000e+00, 1.7744e-20, 2.2959e-19],\n",
            "        [1.5974e-22, 9.4801e-28, 1.0000e+00, 1.0478e-22, 8.9695e-21],\n",
            "        [1.2497e-20, 1.2207e-24, 1.0000e+00, 9.8812e-20, 8.7702e-19],\n",
            "        [4.3877e-19, 2.7909e-23, 1.0000e+00, 1.2022e-18, 2.6189e-17],\n",
            "        [5.0351e-21, 2.3959e-25, 1.0000e+00, 1.9143e-20, 2.6553e-19],\n",
            "        [1.6567e-21, 2.6950e-26, 1.0000e+00, 2.0745e-21, 9.7703e-20]],\n",
            "       grad_fn=<SoftmaxBackward0>)\n",
            "tensor([2, 3, 2, 1, 0, 1, 2, 1, 2, 0, 2, 1, 0, 3, 1, 2, 1, 2, 3, 1, 1, 3, 3, 4,\n",
            "        2, 4, 4, 3, 4, 1, 4, 2, 4, 3, 0, 4, 2, 4, 0, 4, 3, 1, 2, 4, 1, 2, 2, 3,\n",
            "        4, 4, 3, 0, 4, 1, 0, 1, 2, 4, 0, 1, 2, 3, 0, 1])\n"
          ]
        },
        {
          "output_type": "execute_result",
          "data": {
            "text/plain": [
              "0.0"
            ]
          },
          "metadata": {},
          "execution_count": 89
        }
      ]
    },
    {
      "cell_type": "code",
      "source": [],
      "metadata": {
        "id": "tH4YA-isC5PZ"
      },
      "execution_count": null,
      "outputs": []
    }
  ],
  "metadata": {
    "colab": {
      "name": "Welcome To Colaboratory",
      "provenance": [],
      "include_colab_link": true
    },
    "kernelspec": {
      "display_name": "Python 3",
      "name": "python3"
    },
    "widgets": {
      "application/vnd.jupyter.widget-state+json": {
        "ea319731e59642098e0a6625e850e863": {
          "model_module": "@jupyter-widgets/controls",
          "model_name": "HBoxModel",
          "model_module_version": "1.5.0",
          "state": {
            "_dom_classes": [],
            "_model_module": "@jupyter-widgets/controls",
            "_model_module_version": "1.5.0",
            "_model_name": "HBoxModel",
            "_view_count": null,
            "_view_module": "@jupyter-widgets/controls",
            "_view_module_version": "1.5.0",
            "_view_name": "HBoxView",
            "box_style": "",
            "children": [
              "IPY_MODEL_95835d32a0174456905bbe681a131b66",
              "IPY_MODEL_a30e5fd3e5ef4ca28e90f166bc6ef8fd",
              "IPY_MODEL_5f8b777e338b4969a30e73033a79660c"
            ],
            "layout": "IPY_MODEL_314e139ec2064e8ebcf70216952a26e9"
          }
        },
        "95835d32a0174456905bbe681a131b66": {
          "model_module": "@jupyter-widgets/controls",
          "model_name": "HTMLModel",
          "model_module_version": "1.5.0",
          "state": {
            "_dom_classes": [],
            "_model_module": "@jupyter-widgets/controls",
            "_model_module_version": "1.5.0",
            "_model_name": "HTMLModel",
            "_view_count": null,
            "_view_module": "@jupyter-widgets/controls",
            "_view_module_version": "1.5.0",
            "_view_name": "HTMLView",
            "description": "",
            "description_tooltip": null,
            "layout": "IPY_MODEL_ac992a4d8bc04d06a8853f01fc5304a7",
            "placeholder": "​",
            "style": "IPY_MODEL_0135a11a914240caaf836fc4a9c31dcc",
            "value": "Downloading (…)solve/main/vocab.txt: 100%"
          }
        },
        "a30e5fd3e5ef4ca28e90f166bc6ef8fd": {
          "model_module": "@jupyter-widgets/controls",
          "model_name": "FloatProgressModel",
          "model_module_version": "1.5.0",
          "state": {
            "_dom_classes": [],
            "_model_module": "@jupyter-widgets/controls",
            "_model_module_version": "1.5.0",
            "_model_name": "FloatProgressModel",
            "_view_count": null,
            "_view_module": "@jupyter-widgets/controls",
            "_view_module_version": "1.5.0",
            "_view_name": "ProgressView",
            "bar_style": "success",
            "description": "",
            "description_tooltip": null,
            "layout": "IPY_MODEL_a77abcddfd714207bf1bf734ae1cb587",
            "max": 213450,
            "min": 0,
            "orientation": "horizontal",
            "style": "IPY_MODEL_23216984213445feac646a5883abc151",
            "value": 213450
          }
        },
        "5f8b777e338b4969a30e73033a79660c": {
          "model_module": "@jupyter-widgets/controls",
          "model_name": "HTMLModel",
          "model_module_version": "1.5.0",
          "state": {
            "_dom_classes": [],
            "_model_module": "@jupyter-widgets/controls",
            "_model_module_version": "1.5.0",
            "_model_name": "HTMLModel",
            "_view_count": null,
            "_view_module": "@jupyter-widgets/controls",
            "_view_module_version": "1.5.0",
            "_view_name": "HTMLView",
            "description": "",
            "description_tooltip": null,
            "layout": "IPY_MODEL_129e49b4dda04f098c96540badeb8ddd",
            "placeholder": "​",
            "style": "IPY_MODEL_18cdb21d78784d1a9a5a72520d6fd9be",
            "value": " 213k/213k [00:00&lt;00:00, 3.27MB/s]"
          }
        },
        "314e139ec2064e8ebcf70216952a26e9": {
          "model_module": "@jupyter-widgets/base",
          "model_name": "LayoutModel",
          "model_module_version": "1.2.0",
          "state": {
            "_model_module": "@jupyter-widgets/base",
            "_model_module_version": "1.2.0",
            "_model_name": "LayoutModel",
            "_view_count": null,
            "_view_module": "@jupyter-widgets/base",
            "_view_module_version": "1.2.0",
            "_view_name": "LayoutView",
            "align_content": null,
            "align_items": null,
            "align_self": null,
            "border": null,
            "bottom": null,
            "display": null,
            "flex": null,
            "flex_flow": null,
            "grid_area": null,
            "grid_auto_columns": null,
            "grid_auto_flow": null,
            "grid_auto_rows": null,
            "grid_column": null,
            "grid_gap": null,
            "grid_row": null,
            "grid_template_areas": null,
            "grid_template_columns": null,
            "grid_template_rows": null,
            "height": null,
            "justify_content": null,
            "justify_items": null,
            "left": null,
            "margin": null,
            "max_height": null,
            "max_width": null,
            "min_height": null,
            "min_width": null,
            "object_fit": null,
            "object_position": null,
            "order": null,
            "overflow": null,
            "overflow_x": null,
            "overflow_y": null,
            "padding": null,
            "right": null,
            "top": null,
            "visibility": null,
            "width": null
          }
        },
        "ac992a4d8bc04d06a8853f01fc5304a7": {
          "model_module": "@jupyter-widgets/base",
          "model_name": "LayoutModel",
          "model_module_version": "1.2.0",
          "state": {
            "_model_module": "@jupyter-widgets/base",
            "_model_module_version": "1.2.0",
            "_model_name": "LayoutModel",
            "_view_count": null,
            "_view_module": "@jupyter-widgets/base",
            "_view_module_version": "1.2.0",
            "_view_name": "LayoutView",
            "align_content": null,
            "align_items": null,
            "align_self": null,
            "border": null,
            "bottom": null,
            "display": null,
            "flex": null,
            "flex_flow": null,
            "grid_area": null,
            "grid_auto_columns": null,
            "grid_auto_flow": null,
            "grid_auto_rows": null,
            "grid_column": null,
            "grid_gap": null,
            "grid_row": null,
            "grid_template_areas": null,
            "grid_template_columns": null,
            "grid_template_rows": null,
            "height": null,
            "justify_content": null,
            "justify_items": null,
            "left": null,
            "margin": null,
            "max_height": null,
            "max_width": null,
            "min_height": null,
            "min_width": null,
            "object_fit": null,
            "object_position": null,
            "order": null,
            "overflow": null,
            "overflow_x": null,
            "overflow_y": null,
            "padding": null,
            "right": null,
            "top": null,
            "visibility": null,
            "width": null
          }
        },
        "0135a11a914240caaf836fc4a9c31dcc": {
          "model_module": "@jupyter-widgets/controls",
          "model_name": "DescriptionStyleModel",
          "model_module_version": "1.5.0",
          "state": {
            "_model_module": "@jupyter-widgets/controls",
            "_model_module_version": "1.5.0",
            "_model_name": "DescriptionStyleModel",
            "_view_count": null,
            "_view_module": "@jupyter-widgets/base",
            "_view_module_version": "1.2.0",
            "_view_name": "StyleView",
            "description_width": ""
          }
        },
        "a77abcddfd714207bf1bf734ae1cb587": {
          "model_module": "@jupyter-widgets/base",
          "model_name": "LayoutModel",
          "model_module_version": "1.2.0",
          "state": {
            "_model_module": "@jupyter-widgets/base",
            "_model_module_version": "1.2.0",
            "_model_name": "LayoutModel",
            "_view_count": null,
            "_view_module": "@jupyter-widgets/base",
            "_view_module_version": "1.2.0",
            "_view_name": "LayoutView",
            "align_content": null,
            "align_items": null,
            "align_self": null,
            "border": null,
            "bottom": null,
            "display": null,
            "flex": null,
            "flex_flow": null,
            "grid_area": null,
            "grid_auto_columns": null,
            "grid_auto_flow": null,
            "grid_auto_rows": null,
            "grid_column": null,
            "grid_gap": null,
            "grid_row": null,
            "grid_template_areas": null,
            "grid_template_columns": null,
            "grid_template_rows": null,
            "height": null,
            "justify_content": null,
            "justify_items": null,
            "left": null,
            "margin": null,
            "max_height": null,
            "max_width": null,
            "min_height": null,
            "min_width": null,
            "object_fit": null,
            "object_position": null,
            "order": null,
            "overflow": null,
            "overflow_x": null,
            "overflow_y": null,
            "padding": null,
            "right": null,
            "top": null,
            "visibility": null,
            "width": null
          }
        },
        "23216984213445feac646a5883abc151": {
          "model_module": "@jupyter-widgets/controls",
          "model_name": "ProgressStyleModel",
          "model_module_version": "1.5.0",
          "state": {
            "_model_module": "@jupyter-widgets/controls",
            "_model_module_version": "1.5.0",
            "_model_name": "ProgressStyleModel",
            "_view_count": null,
            "_view_module": "@jupyter-widgets/base",
            "_view_module_version": "1.2.0",
            "_view_name": "StyleView",
            "bar_color": null,
            "description_width": ""
          }
        },
        "129e49b4dda04f098c96540badeb8ddd": {
          "model_module": "@jupyter-widgets/base",
          "model_name": "LayoutModel",
          "model_module_version": "1.2.0",
          "state": {
            "_model_module": "@jupyter-widgets/base",
            "_model_module_version": "1.2.0",
            "_model_name": "LayoutModel",
            "_view_count": null,
            "_view_module": "@jupyter-widgets/base",
            "_view_module_version": "1.2.0",
            "_view_name": "LayoutView",
            "align_content": null,
            "align_items": null,
            "align_self": null,
            "border": null,
            "bottom": null,
            "display": null,
            "flex": null,
            "flex_flow": null,
            "grid_area": null,
            "grid_auto_columns": null,
            "grid_auto_flow": null,
            "grid_auto_rows": null,
            "grid_column": null,
            "grid_gap": null,
            "grid_row": null,
            "grid_template_areas": null,
            "grid_template_columns": null,
            "grid_template_rows": null,
            "height": null,
            "justify_content": null,
            "justify_items": null,
            "left": null,
            "margin": null,
            "max_height": null,
            "max_width": null,
            "min_height": null,
            "min_width": null,
            "object_fit": null,
            "object_position": null,
            "order": null,
            "overflow": null,
            "overflow_x": null,
            "overflow_y": null,
            "padding": null,
            "right": null,
            "top": null,
            "visibility": null,
            "width": null
          }
        },
        "18cdb21d78784d1a9a5a72520d6fd9be": {
          "model_module": "@jupyter-widgets/controls",
          "model_name": "DescriptionStyleModel",
          "model_module_version": "1.5.0",
          "state": {
            "_model_module": "@jupyter-widgets/controls",
            "_model_module_version": "1.5.0",
            "_model_name": "DescriptionStyleModel",
            "_view_count": null,
            "_view_module": "@jupyter-widgets/base",
            "_view_module_version": "1.2.0",
            "_view_name": "StyleView",
            "description_width": ""
          }
        },
        "b42624d5e8f545908263534bc7727cab": {
          "model_module": "@jupyter-widgets/controls",
          "model_name": "HBoxModel",
          "model_module_version": "1.5.0",
          "state": {
            "_dom_classes": [],
            "_model_module": "@jupyter-widgets/controls",
            "_model_module_version": "1.5.0",
            "_model_name": "HBoxModel",
            "_view_count": null,
            "_view_module": "@jupyter-widgets/controls",
            "_view_module_version": "1.5.0",
            "_view_name": "HBoxView",
            "box_style": "",
            "children": [
              "IPY_MODEL_e484692c64a7417ea6560578480a3897",
              "IPY_MODEL_f3da00db2005488fb2881647274a8fed",
              "IPY_MODEL_5ac4e97e6dee4524898d65afde035bd2"
            ],
            "layout": "IPY_MODEL_b9be0c8d6ba14fba9504451cff408f19"
          }
        },
        "e484692c64a7417ea6560578480a3897": {
          "model_module": "@jupyter-widgets/controls",
          "model_name": "HTMLModel",
          "model_module_version": "1.5.0",
          "state": {
            "_dom_classes": [],
            "_model_module": "@jupyter-widgets/controls",
            "_model_module_version": "1.5.0",
            "_model_name": "HTMLModel",
            "_view_count": null,
            "_view_module": "@jupyter-widgets/controls",
            "_view_module_version": "1.5.0",
            "_view_name": "HTMLView",
            "description": "",
            "description_tooltip": null,
            "layout": "IPY_MODEL_11f02ec09a8a42a2b09e7b4279aaafa1",
            "placeholder": "​",
            "style": "IPY_MODEL_9bef0d09248a4099b3c8fb9ca0ab2075",
            "value": "Downloading (…)okenizer_config.json: 100%"
          }
        },
        "f3da00db2005488fb2881647274a8fed": {
          "model_module": "@jupyter-widgets/controls",
          "model_name": "FloatProgressModel",
          "model_module_version": "1.5.0",
          "state": {
            "_dom_classes": [],
            "_model_module": "@jupyter-widgets/controls",
            "_model_module_version": "1.5.0",
            "_model_name": "FloatProgressModel",
            "_view_count": null,
            "_view_module": "@jupyter-widgets/controls",
            "_view_module_version": "1.5.0",
            "_view_name": "ProgressView",
            "bar_style": "success",
            "description": "",
            "description_tooltip": null,
            "layout": "IPY_MODEL_989a5e0503c245deafaab5bfac9e431a",
            "max": 29,
            "min": 0,
            "orientation": "horizontal",
            "style": "IPY_MODEL_79e04b68cf344b4e952c01ca0343a9f6",
            "value": 29
          }
        },
        "5ac4e97e6dee4524898d65afde035bd2": {
          "model_module": "@jupyter-widgets/controls",
          "model_name": "HTMLModel",
          "model_module_version": "1.5.0",
          "state": {
            "_dom_classes": [],
            "_model_module": "@jupyter-widgets/controls",
            "_model_module_version": "1.5.0",
            "_model_name": "HTMLModel",
            "_view_count": null,
            "_view_module": "@jupyter-widgets/controls",
            "_view_module_version": "1.5.0",
            "_view_name": "HTMLView",
            "description": "",
            "description_tooltip": null,
            "layout": "IPY_MODEL_d0d98e8749174af2824fe045d7ad7c1e",
            "placeholder": "​",
            "style": "IPY_MODEL_8987fe1df51843069d7ef00612076a95",
            "value": " 29.0/29.0 [00:00&lt;00:00, 587B/s]"
          }
        },
        "b9be0c8d6ba14fba9504451cff408f19": {
          "model_module": "@jupyter-widgets/base",
          "model_name": "LayoutModel",
          "model_module_version": "1.2.0",
          "state": {
            "_model_module": "@jupyter-widgets/base",
            "_model_module_version": "1.2.0",
            "_model_name": "LayoutModel",
            "_view_count": null,
            "_view_module": "@jupyter-widgets/base",
            "_view_module_version": "1.2.0",
            "_view_name": "LayoutView",
            "align_content": null,
            "align_items": null,
            "align_self": null,
            "border": null,
            "bottom": null,
            "display": null,
            "flex": null,
            "flex_flow": null,
            "grid_area": null,
            "grid_auto_columns": null,
            "grid_auto_flow": null,
            "grid_auto_rows": null,
            "grid_column": null,
            "grid_gap": null,
            "grid_row": null,
            "grid_template_areas": null,
            "grid_template_columns": null,
            "grid_template_rows": null,
            "height": null,
            "justify_content": null,
            "justify_items": null,
            "left": null,
            "margin": null,
            "max_height": null,
            "max_width": null,
            "min_height": null,
            "min_width": null,
            "object_fit": null,
            "object_position": null,
            "order": null,
            "overflow": null,
            "overflow_x": null,
            "overflow_y": null,
            "padding": null,
            "right": null,
            "top": null,
            "visibility": null,
            "width": null
          }
        },
        "11f02ec09a8a42a2b09e7b4279aaafa1": {
          "model_module": "@jupyter-widgets/base",
          "model_name": "LayoutModel",
          "model_module_version": "1.2.0",
          "state": {
            "_model_module": "@jupyter-widgets/base",
            "_model_module_version": "1.2.0",
            "_model_name": "LayoutModel",
            "_view_count": null,
            "_view_module": "@jupyter-widgets/base",
            "_view_module_version": "1.2.0",
            "_view_name": "LayoutView",
            "align_content": null,
            "align_items": null,
            "align_self": null,
            "border": null,
            "bottom": null,
            "display": null,
            "flex": null,
            "flex_flow": null,
            "grid_area": null,
            "grid_auto_columns": null,
            "grid_auto_flow": null,
            "grid_auto_rows": null,
            "grid_column": null,
            "grid_gap": null,
            "grid_row": null,
            "grid_template_areas": null,
            "grid_template_columns": null,
            "grid_template_rows": null,
            "height": null,
            "justify_content": null,
            "justify_items": null,
            "left": null,
            "margin": null,
            "max_height": null,
            "max_width": null,
            "min_height": null,
            "min_width": null,
            "object_fit": null,
            "object_position": null,
            "order": null,
            "overflow": null,
            "overflow_x": null,
            "overflow_y": null,
            "padding": null,
            "right": null,
            "top": null,
            "visibility": null,
            "width": null
          }
        },
        "9bef0d09248a4099b3c8fb9ca0ab2075": {
          "model_module": "@jupyter-widgets/controls",
          "model_name": "DescriptionStyleModel",
          "model_module_version": "1.5.0",
          "state": {
            "_model_module": "@jupyter-widgets/controls",
            "_model_module_version": "1.5.0",
            "_model_name": "DescriptionStyleModel",
            "_view_count": null,
            "_view_module": "@jupyter-widgets/base",
            "_view_module_version": "1.2.0",
            "_view_name": "StyleView",
            "description_width": ""
          }
        },
        "989a5e0503c245deafaab5bfac9e431a": {
          "model_module": "@jupyter-widgets/base",
          "model_name": "LayoutModel",
          "model_module_version": "1.2.0",
          "state": {
            "_model_module": "@jupyter-widgets/base",
            "_model_module_version": "1.2.0",
            "_model_name": "LayoutModel",
            "_view_count": null,
            "_view_module": "@jupyter-widgets/base",
            "_view_module_version": "1.2.0",
            "_view_name": "LayoutView",
            "align_content": null,
            "align_items": null,
            "align_self": null,
            "border": null,
            "bottom": null,
            "display": null,
            "flex": null,
            "flex_flow": null,
            "grid_area": null,
            "grid_auto_columns": null,
            "grid_auto_flow": null,
            "grid_auto_rows": null,
            "grid_column": null,
            "grid_gap": null,
            "grid_row": null,
            "grid_template_areas": null,
            "grid_template_columns": null,
            "grid_template_rows": null,
            "height": null,
            "justify_content": null,
            "justify_items": null,
            "left": null,
            "margin": null,
            "max_height": null,
            "max_width": null,
            "min_height": null,
            "min_width": null,
            "object_fit": null,
            "object_position": null,
            "order": null,
            "overflow": null,
            "overflow_x": null,
            "overflow_y": null,
            "padding": null,
            "right": null,
            "top": null,
            "visibility": null,
            "width": null
          }
        },
        "79e04b68cf344b4e952c01ca0343a9f6": {
          "model_module": "@jupyter-widgets/controls",
          "model_name": "ProgressStyleModel",
          "model_module_version": "1.5.0",
          "state": {
            "_model_module": "@jupyter-widgets/controls",
            "_model_module_version": "1.5.0",
            "_model_name": "ProgressStyleModel",
            "_view_count": null,
            "_view_module": "@jupyter-widgets/base",
            "_view_module_version": "1.2.0",
            "_view_name": "StyleView",
            "bar_color": null,
            "description_width": ""
          }
        },
        "d0d98e8749174af2824fe045d7ad7c1e": {
          "model_module": "@jupyter-widgets/base",
          "model_name": "LayoutModel",
          "model_module_version": "1.2.0",
          "state": {
            "_model_module": "@jupyter-widgets/base",
            "_model_module_version": "1.2.0",
            "_model_name": "LayoutModel",
            "_view_count": null,
            "_view_module": "@jupyter-widgets/base",
            "_view_module_version": "1.2.0",
            "_view_name": "LayoutView",
            "align_content": null,
            "align_items": null,
            "align_self": null,
            "border": null,
            "bottom": null,
            "display": null,
            "flex": null,
            "flex_flow": null,
            "grid_area": null,
            "grid_auto_columns": null,
            "grid_auto_flow": null,
            "grid_auto_rows": null,
            "grid_column": null,
            "grid_gap": null,
            "grid_row": null,
            "grid_template_areas": null,
            "grid_template_columns": null,
            "grid_template_rows": null,
            "height": null,
            "justify_content": null,
            "justify_items": null,
            "left": null,
            "margin": null,
            "max_height": null,
            "max_width": null,
            "min_height": null,
            "min_width": null,
            "object_fit": null,
            "object_position": null,
            "order": null,
            "overflow": null,
            "overflow_x": null,
            "overflow_y": null,
            "padding": null,
            "right": null,
            "top": null,
            "visibility": null,
            "width": null
          }
        },
        "8987fe1df51843069d7ef00612076a95": {
          "model_module": "@jupyter-widgets/controls",
          "model_name": "DescriptionStyleModel",
          "model_module_version": "1.5.0",
          "state": {
            "_model_module": "@jupyter-widgets/controls",
            "_model_module_version": "1.5.0",
            "_model_name": "DescriptionStyleModel",
            "_view_count": null,
            "_view_module": "@jupyter-widgets/base",
            "_view_module_version": "1.2.0",
            "_view_name": "StyleView",
            "description_width": ""
          }
        },
        "57005f2fb9b0474db134567c842d5671": {
          "model_module": "@jupyter-widgets/controls",
          "model_name": "HBoxModel",
          "model_module_version": "1.5.0",
          "state": {
            "_dom_classes": [],
            "_model_module": "@jupyter-widgets/controls",
            "_model_module_version": "1.5.0",
            "_model_name": "HBoxModel",
            "_view_count": null,
            "_view_module": "@jupyter-widgets/controls",
            "_view_module_version": "1.5.0",
            "_view_name": "HBoxView",
            "box_style": "",
            "children": [
              "IPY_MODEL_6a2e2193e4964f66a93a2219d9adb89e",
              "IPY_MODEL_1e638453d78e4e26b672ba08cbbc724f",
              "IPY_MODEL_544aae2a121a4269a14baaf967b7e012"
            ],
            "layout": "IPY_MODEL_915ea364513f447786b4891c510fb0f2"
          }
        },
        "6a2e2193e4964f66a93a2219d9adb89e": {
          "model_module": "@jupyter-widgets/controls",
          "model_name": "HTMLModel",
          "model_module_version": "1.5.0",
          "state": {
            "_dom_classes": [],
            "_model_module": "@jupyter-widgets/controls",
            "_model_module_version": "1.5.0",
            "_model_name": "HTMLModel",
            "_view_count": null,
            "_view_module": "@jupyter-widgets/controls",
            "_view_module_version": "1.5.0",
            "_view_name": "HTMLView",
            "description": "",
            "description_tooltip": null,
            "layout": "IPY_MODEL_a2106a76ecf44218bfc829e025570222",
            "placeholder": "​",
            "style": "IPY_MODEL_4acb7ce5672443c6b6f5f9820c1974ce",
            "value": "Downloading (…)lve/main/config.json: 100%"
          }
        },
        "1e638453d78e4e26b672ba08cbbc724f": {
          "model_module": "@jupyter-widgets/controls",
          "model_name": "FloatProgressModel",
          "model_module_version": "1.5.0",
          "state": {
            "_dom_classes": [],
            "_model_module": "@jupyter-widgets/controls",
            "_model_module_version": "1.5.0",
            "_model_name": "FloatProgressModel",
            "_view_count": null,
            "_view_module": "@jupyter-widgets/controls",
            "_view_module_version": "1.5.0",
            "_view_name": "ProgressView",
            "bar_style": "success",
            "description": "",
            "description_tooltip": null,
            "layout": "IPY_MODEL_1a86917c1a9b4b998e995fd4550cf5f2",
            "max": 570,
            "min": 0,
            "orientation": "horizontal",
            "style": "IPY_MODEL_5f23ca86e6044ec796904534a8b8cf77",
            "value": 570
          }
        },
        "544aae2a121a4269a14baaf967b7e012": {
          "model_module": "@jupyter-widgets/controls",
          "model_name": "HTMLModel",
          "model_module_version": "1.5.0",
          "state": {
            "_dom_classes": [],
            "_model_module": "@jupyter-widgets/controls",
            "_model_module_version": "1.5.0",
            "_model_name": "HTMLModel",
            "_view_count": null,
            "_view_module": "@jupyter-widgets/controls",
            "_view_module_version": "1.5.0",
            "_view_name": "HTMLView",
            "description": "",
            "description_tooltip": null,
            "layout": "IPY_MODEL_4e93d4ada49142428db80acaed06aa03",
            "placeholder": "​",
            "style": "IPY_MODEL_dd6fd5c1ff584deda8b0a74b53e68826",
            "value": " 570/570 [00:00&lt;00:00, 13.1kB/s]"
          }
        },
        "915ea364513f447786b4891c510fb0f2": {
          "model_module": "@jupyter-widgets/base",
          "model_name": "LayoutModel",
          "model_module_version": "1.2.0",
          "state": {
            "_model_module": "@jupyter-widgets/base",
            "_model_module_version": "1.2.0",
            "_model_name": "LayoutModel",
            "_view_count": null,
            "_view_module": "@jupyter-widgets/base",
            "_view_module_version": "1.2.0",
            "_view_name": "LayoutView",
            "align_content": null,
            "align_items": null,
            "align_self": null,
            "border": null,
            "bottom": null,
            "display": null,
            "flex": null,
            "flex_flow": null,
            "grid_area": null,
            "grid_auto_columns": null,
            "grid_auto_flow": null,
            "grid_auto_rows": null,
            "grid_column": null,
            "grid_gap": null,
            "grid_row": null,
            "grid_template_areas": null,
            "grid_template_columns": null,
            "grid_template_rows": null,
            "height": null,
            "justify_content": null,
            "justify_items": null,
            "left": null,
            "margin": null,
            "max_height": null,
            "max_width": null,
            "min_height": null,
            "min_width": null,
            "object_fit": null,
            "object_position": null,
            "order": null,
            "overflow": null,
            "overflow_x": null,
            "overflow_y": null,
            "padding": null,
            "right": null,
            "top": null,
            "visibility": null,
            "width": null
          }
        },
        "a2106a76ecf44218bfc829e025570222": {
          "model_module": "@jupyter-widgets/base",
          "model_name": "LayoutModel",
          "model_module_version": "1.2.0",
          "state": {
            "_model_module": "@jupyter-widgets/base",
            "_model_module_version": "1.2.0",
            "_model_name": "LayoutModel",
            "_view_count": null,
            "_view_module": "@jupyter-widgets/base",
            "_view_module_version": "1.2.0",
            "_view_name": "LayoutView",
            "align_content": null,
            "align_items": null,
            "align_self": null,
            "border": null,
            "bottom": null,
            "display": null,
            "flex": null,
            "flex_flow": null,
            "grid_area": null,
            "grid_auto_columns": null,
            "grid_auto_flow": null,
            "grid_auto_rows": null,
            "grid_column": null,
            "grid_gap": null,
            "grid_row": null,
            "grid_template_areas": null,
            "grid_template_columns": null,
            "grid_template_rows": null,
            "height": null,
            "justify_content": null,
            "justify_items": null,
            "left": null,
            "margin": null,
            "max_height": null,
            "max_width": null,
            "min_height": null,
            "min_width": null,
            "object_fit": null,
            "object_position": null,
            "order": null,
            "overflow": null,
            "overflow_x": null,
            "overflow_y": null,
            "padding": null,
            "right": null,
            "top": null,
            "visibility": null,
            "width": null
          }
        },
        "4acb7ce5672443c6b6f5f9820c1974ce": {
          "model_module": "@jupyter-widgets/controls",
          "model_name": "DescriptionStyleModel",
          "model_module_version": "1.5.0",
          "state": {
            "_model_module": "@jupyter-widgets/controls",
            "_model_module_version": "1.5.0",
            "_model_name": "DescriptionStyleModel",
            "_view_count": null,
            "_view_module": "@jupyter-widgets/base",
            "_view_module_version": "1.2.0",
            "_view_name": "StyleView",
            "description_width": ""
          }
        },
        "1a86917c1a9b4b998e995fd4550cf5f2": {
          "model_module": "@jupyter-widgets/base",
          "model_name": "LayoutModel",
          "model_module_version": "1.2.0",
          "state": {
            "_model_module": "@jupyter-widgets/base",
            "_model_module_version": "1.2.0",
            "_model_name": "LayoutModel",
            "_view_count": null,
            "_view_module": "@jupyter-widgets/base",
            "_view_module_version": "1.2.0",
            "_view_name": "LayoutView",
            "align_content": null,
            "align_items": null,
            "align_self": null,
            "border": null,
            "bottom": null,
            "display": null,
            "flex": null,
            "flex_flow": null,
            "grid_area": null,
            "grid_auto_columns": null,
            "grid_auto_flow": null,
            "grid_auto_rows": null,
            "grid_column": null,
            "grid_gap": null,
            "grid_row": null,
            "grid_template_areas": null,
            "grid_template_columns": null,
            "grid_template_rows": null,
            "height": null,
            "justify_content": null,
            "justify_items": null,
            "left": null,
            "margin": null,
            "max_height": null,
            "max_width": null,
            "min_height": null,
            "min_width": null,
            "object_fit": null,
            "object_position": null,
            "order": null,
            "overflow": null,
            "overflow_x": null,
            "overflow_y": null,
            "padding": null,
            "right": null,
            "top": null,
            "visibility": null,
            "width": null
          }
        },
        "5f23ca86e6044ec796904534a8b8cf77": {
          "model_module": "@jupyter-widgets/controls",
          "model_name": "ProgressStyleModel",
          "model_module_version": "1.5.0",
          "state": {
            "_model_module": "@jupyter-widgets/controls",
            "_model_module_version": "1.5.0",
            "_model_name": "ProgressStyleModel",
            "_view_count": null,
            "_view_module": "@jupyter-widgets/base",
            "_view_module_version": "1.2.0",
            "_view_name": "StyleView",
            "bar_color": null,
            "description_width": ""
          }
        },
        "4e93d4ada49142428db80acaed06aa03": {
          "model_module": "@jupyter-widgets/base",
          "model_name": "LayoutModel",
          "model_module_version": "1.2.0",
          "state": {
            "_model_module": "@jupyter-widgets/base",
            "_model_module_version": "1.2.0",
            "_model_name": "LayoutModel",
            "_view_count": null,
            "_view_module": "@jupyter-widgets/base",
            "_view_module_version": "1.2.0",
            "_view_name": "LayoutView",
            "align_content": null,
            "align_items": null,
            "align_self": null,
            "border": null,
            "bottom": null,
            "display": null,
            "flex": null,
            "flex_flow": null,
            "grid_area": null,
            "grid_auto_columns": null,
            "grid_auto_flow": null,
            "grid_auto_rows": null,
            "grid_column": null,
            "grid_gap": null,
            "grid_row": null,
            "grid_template_areas": null,
            "grid_template_columns": null,
            "grid_template_rows": null,
            "height": null,
            "justify_content": null,
            "justify_items": null,
            "left": null,
            "margin": null,
            "max_height": null,
            "max_width": null,
            "min_height": null,
            "min_width": null,
            "object_fit": null,
            "object_position": null,
            "order": null,
            "overflow": null,
            "overflow_x": null,
            "overflow_y": null,
            "padding": null,
            "right": null,
            "top": null,
            "visibility": null,
            "width": null
          }
        },
        "dd6fd5c1ff584deda8b0a74b53e68826": {
          "model_module": "@jupyter-widgets/controls",
          "model_name": "DescriptionStyleModel",
          "model_module_version": "1.5.0",
          "state": {
            "_model_module": "@jupyter-widgets/controls",
            "_model_module_version": "1.5.0",
            "_model_name": "DescriptionStyleModel",
            "_view_count": null,
            "_view_module": "@jupyter-widgets/base",
            "_view_module_version": "1.2.0",
            "_view_name": "StyleView",
            "description_width": ""
          }
        }
      }
    }
  },
  "nbformat": 4,
  "nbformat_minor": 0
}